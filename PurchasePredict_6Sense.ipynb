{
 "cells": [
  {
   "cell_type": "code",
   "execution_count": 57,
   "metadata": {},
   "outputs": [],
   "source": [
    "import pandas as pd\n",
    "import matplotlib.pyplot as plt\n",
    "import seaborn as sns\n",
    "from sklearn.preprocessing import OneHotEncoder"
   ]
  },
  {
   "cell_type": "code",
   "execution_count": 208,
   "metadata": {},
   "outputs": [],
   "source": [
    "# Importing the training dataset into a pandas dataframe\n",
    "df_train = pd.read_csv(\"C:/Users/rashm/Desktop/6Sense/6sense_DS_TakeHome_Challenge/2021_6sense_DS_Takehome_Challenge/training.tsv\", sep = '\\t', header = None)\n",
    "# df_test = pd.read_csv(\"C:/Users/rashm/Desktop/6Sense/6sense_DS_TakeHome_Challenge/2021_6sense_DS_Takehome_Challenge/test.tsv\", sep = '\\t', header = None)"
   ]
  },
  {
   "cell_type": "code",
   "execution_count": 219,
   "metadata": {},
   "outputs": [
    {
     "data": {
      "text/html": [
       "<div>\n",
       "<style scoped>\n",
       "    .dataframe tbody tr th:only-of-type {\n",
       "        vertical-align: middle;\n",
       "    }\n",
       "\n",
       "    .dataframe tbody tr th {\n",
       "        vertical-align: top;\n",
       "    }\n",
       "\n",
       "    .dataframe thead th {\n",
       "        text-align: right;\n",
       "    }\n",
       "</style>\n",
       "<table border=\"1\" class=\"dataframe\">\n",
       "  <thead>\n",
       "    <tr style=\"text-align: right;\">\n",
       "      <th></th>\n",
       "      <th>User_ID</th>\n",
       "      <th>Activity_Date</th>\n",
       "      <th>Activity_Type</th>\n",
       "    </tr>\n",
       "  </thead>\n",
       "  <tbody>\n",
       "    <tr>\n",
       "      <th>0</th>\n",
       "      <td>00002acbe042d69</td>\n",
       "      <td>2013-07-11</td>\n",
       "      <td>EmailOpen</td>\n",
       "    </tr>\n",
       "    <tr>\n",
       "      <th>1</th>\n",
       "      <td>00002acbe042d69</td>\n",
       "      <td>2013-07-11</td>\n",
       "      <td>FormSubmit</td>\n",
       "    </tr>\n",
       "    <tr>\n",
       "      <th>2</th>\n",
       "      <td>00002acbe042d69</td>\n",
       "      <td>2013-07-15</td>\n",
       "      <td>EmailOpen</td>\n",
       "    </tr>\n",
       "    <tr>\n",
       "      <th>3</th>\n",
       "      <td>00002acbe042d69</td>\n",
       "      <td>2013-07-17</td>\n",
       "      <td>EmailOpen</td>\n",
       "    </tr>\n",
       "    <tr>\n",
       "      <th>4</th>\n",
       "      <td>00002acbe042d69</td>\n",
       "      <td>2013-07-18</td>\n",
       "      <td>EmailOpen</td>\n",
       "    </tr>\n",
       "  </tbody>\n",
       "</table>\n",
       "</div>"
      ],
      "text/plain": [
       "           User_ID Activity_Date Activity_Type\n",
       "0  00002acbe042d69    2013-07-11     EmailOpen\n",
       "1  00002acbe042d69    2013-07-11    FormSubmit\n",
       "2  00002acbe042d69    2013-07-15     EmailOpen\n",
       "3  00002acbe042d69    2013-07-17     EmailOpen\n",
       "4  00002acbe042d69    2013-07-18     EmailOpen"
      ]
     },
     "execution_count": 219,
     "metadata": {},
     "output_type": "execute_result"
    }
   ],
   "source": [
    "df_train.head()"
   ]
  },
  {
   "cell_type": "code",
   "execution_count": 210,
   "metadata": {},
   "outputs": [],
   "source": [
    "# Giving proper column values according to the description\n",
    "df_train.columns = ['User_ID','Activity_Date','Activity_Type']"
   ]
  },
  {
   "cell_type": "code",
   "execution_count": null,
   "metadata": {},
   "outputs": [],
   "source": []
  },
  {
   "cell_type": "code",
   "execution_count": 211,
   "metadata": {},
   "outputs": [
    {
     "data": {
      "text/html": [
       "<div>\n",
       "<style scoped>\n",
       "    .dataframe tbody tr th:only-of-type {\n",
       "        vertical-align: middle;\n",
       "    }\n",
       "\n",
       "    .dataframe tbody tr th {\n",
       "        vertical-align: top;\n",
       "    }\n",
       "\n",
       "    .dataframe thead th {\n",
       "        text-align: right;\n",
       "    }\n",
       "</style>\n",
       "<table border=\"1\" class=\"dataframe\">\n",
       "  <thead>\n",
       "    <tr style=\"text-align: right;\">\n",
       "      <th></th>\n",
       "      <th>User_ID</th>\n",
       "      <th>Activity_Date</th>\n",
       "      <th>Activity_Type</th>\n",
       "    </tr>\n",
       "  </thead>\n",
       "  <tbody>\n",
       "    <tr>\n",
       "      <th>count</th>\n",
       "      <td>4918677</td>\n",
       "      <td>4918677</td>\n",
       "      <td>4918677</td>\n",
       "    </tr>\n",
       "    <tr>\n",
       "      <th>unique</th>\n",
       "      <td>341568</td>\n",
       "      <td>671</td>\n",
       "      <td>7</td>\n",
       "    </tr>\n",
       "    <tr>\n",
       "      <th>top</th>\n",
       "      <td>2cd311cc3ef2d0c</td>\n",
       "      <td>2014-06-18</td>\n",
       "      <td>EmailOpen</td>\n",
       "    </tr>\n",
       "    <tr>\n",
       "      <th>freq</th>\n",
       "      <td>2718</td>\n",
       "      <td>50184</td>\n",
       "      <td>3191732</td>\n",
       "    </tr>\n",
       "  </tbody>\n",
       "</table>\n",
       "</div>"
      ],
      "text/plain": [
       "                User_ID Activity_Date Activity_Type\n",
       "count           4918677       4918677       4918677\n",
       "unique           341568           671             7\n",
       "top     2cd311cc3ef2d0c    2014-06-18     EmailOpen\n",
       "freq               2718         50184       3191732"
      ]
     },
     "execution_count": 211,
     "metadata": {},
     "output_type": "execute_result"
    }
   ],
   "source": [
    "# Understanding the dataset better\n",
    "# Getting the descriptive statstics parameters for the dataset \n",
    "df_train.describe(include = 'all')"
   ]
  },
  {
   "cell_type": "code",
   "execution_count": 212,
   "metadata": {},
   "outputs": [
    {
     "data": {
      "text/plain": [
       "User_ID          object\n",
       "Activity_Date    object\n",
       "Activity_Type    object\n",
       "dtype: object"
      ]
     },
     "execution_count": 212,
     "metadata": {},
     "output_type": "execute_result"
    }
   ],
   "source": [
    "df_train.dtypes"
   ]
  },
  {
   "cell_type": "code",
   "execution_count": 217,
   "metadata": {},
   "outputs": [
    {
     "data": {
      "text/plain": [
       "User_ID          0\n",
       "Activity_Date    0\n",
       "Activity_Type    0\n",
       "dtype: int64"
      ]
     },
     "execution_count": 217,
     "metadata": {},
     "output_type": "execute_result"
    }
   ],
   "source": [
    "# Checking for missing values in the dataset\n",
    "\n",
    "df_train.isnull().sum()"
   ]
  },
  {
   "cell_type": "code",
   "execution_count": 220,
   "metadata": {},
   "outputs": [
    {
     "data": {
      "image/png": "[encoded data removed]",
      "text/plain": [
       "<Figure size 1152x648 with 1 Axes>"
      ]
     },
     "metadata": {
      "needs_background": "light"
     },
     "output_type": "display_data"
    }
   ],
   "source": [
    "# Univariate Analysis to understand better the distribution of user activity across multiple users\n",
    "\n",
    "df_train['Activity_Type'].value_counts().plot(kind='bar', title = 'User_Activity_Type', figsize=(16,9))\n",
    "plt.xticks(rotation=0)\n",
    "plt.show() "
   ]
  },
  {
   "cell_type": "code",
   "execution_count": 221,
   "metadata": {},
   "outputs": [],
   "source": [
    "df_train['Activity_Type'] = df_train['Activity_Type'].astype('category')"
   ]
  },
  {
   "cell_type": "code",
   "execution_count": 185,
   "metadata": {},
   "outputs": [],
   "source": [
    "# df_train = pd.concat([df_train, pd.get_dummies(df_train[\"Activity_Type\"], prefix=\"\")], axis = 1)\n"
   ]
  },
  {
   "cell_type": "code",
   "execution_count": 189,
   "metadata": {},
   "outputs": [],
   "source": [
    "# df_train['Activity_Type_Cat'] = df_train['Activity_Type'].cat.codes"
   ]
  },
  {
   "cell_type": "code",
   "execution_count": 190,
   "metadata": {},
   "outputs": [],
   "source": [
    "# df_train.drop([\"Activity_Type\"], axis = 1, inplace = True)"
   ]
  },
  {
   "cell_type": "code",
   "execution_count": 222,
   "metadata": {},
   "outputs": [
    {
     "data": {
      "text/html": [
       "<div>\n",
       "<style scoped>\n",
       "    .dataframe tbody tr th:only-of-type {\n",
       "        vertical-align: middle;\n",
       "    }\n",
       "\n",
       "    .dataframe tbody tr th {\n",
       "        vertical-align: top;\n",
       "    }\n",
       "\n",
       "    .dataframe thead th {\n",
       "        text-align: right;\n",
       "    }\n",
       "</style>\n",
       "<table border=\"1\" class=\"dataframe\">\n",
       "  <thead>\n",
       "    <tr style=\"text-align: right;\">\n",
       "      <th></th>\n",
       "      <th>User_ID</th>\n",
       "      <th>Activity_Date</th>\n",
       "      <th>Activity_Type</th>\n",
       "    </tr>\n",
       "  </thead>\n",
       "  <tbody>\n",
       "    <tr>\n",
       "      <th>0</th>\n",
       "      <td>00002acbe042d69</td>\n",
       "      <td>2013-07-11</td>\n",
       "      <td>EmailOpen</td>\n",
       "    </tr>\n",
       "    <tr>\n",
       "      <th>1</th>\n",
       "      <td>00002acbe042d69</td>\n",
       "      <td>2013-07-11</td>\n",
       "      <td>FormSubmit</td>\n",
       "    </tr>\n",
       "    <tr>\n",
       "      <th>2</th>\n",
       "      <td>00002acbe042d69</td>\n",
       "      <td>2013-07-15</td>\n",
       "      <td>EmailOpen</td>\n",
       "    </tr>\n",
       "    <tr>\n",
       "      <th>3</th>\n",
       "      <td>00002acbe042d69</td>\n",
       "      <td>2013-07-17</td>\n",
       "      <td>EmailOpen</td>\n",
       "    </tr>\n",
       "    <tr>\n",
       "      <th>4</th>\n",
       "      <td>00002acbe042d69</td>\n",
       "      <td>2013-07-18</td>\n",
       "      <td>EmailOpen</td>\n",
       "    </tr>\n",
       "    <tr>\n",
       "      <th>...</th>\n",
       "      <td>...</td>\n",
       "      <td>...</td>\n",
       "      <td>...</td>\n",
       "    </tr>\n",
       "    <tr>\n",
       "      <th>4918672</th>\n",
       "      <td>fffff031760c3f5</td>\n",
       "      <td>2014-06-24</td>\n",
       "      <td>EmailOpen</td>\n",
       "    </tr>\n",
       "    <tr>\n",
       "      <th>4918673</th>\n",
       "      <td>fffff031760c3f5</td>\n",
       "      <td>2014-06-25</td>\n",
       "      <td>EmailOpen</td>\n",
       "    </tr>\n",
       "    <tr>\n",
       "      <th>4918674</th>\n",
       "      <td>fffff031760c3f5</td>\n",
       "      <td>2014-07-02</td>\n",
       "      <td>EmailOpen</td>\n",
       "    </tr>\n",
       "    <tr>\n",
       "      <th>4918675</th>\n",
       "      <td>fffff031760c3f5</td>\n",
       "      <td>2014-08-11</td>\n",
       "      <td>EmailOpen</td>\n",
       "    </tr>\n",
       "    <tr>\n",
       "      <th>4918676</th>\n",
       "      <td>fffff031760c3f5</td>\n",
       "      <td>2014-08-21</td>\n",
       "      <td>EmailOpen</td>\n",
       "    </tr>\n",
       "  </tbody>\n",
       "</table>\n",
       "<p>4918677 rows × 3 columns</p>\n",
       "</div>"
      ],
      "text/plain": [
       "                 User_ID Activity_Date Activity_Type\n",
       "0        00002acbe042d69    2013-07-11     EmailOpen\n",
       "1        00002acbe042d69    2013-07-11    FormSubmit\n",
       "2        00002acbe042d69    2013-07-15     EmailOpen\n",
       "3        00002acbe042d69    2013-07-17     EmailOpen\n",
       "4        00002acbe042d69    2013-07-18     EmailOpen\n",
       "...                  ...           ...           ...\n",
       "4918672  fffff031760c3f5    2014-06-24     EmailOpen\n",
       "4918673  fffff031760c3f5    2014-06-25     EmailOpen\n",
       "4918674  fffff031760c3f5    2014-07-02     EmailOpen\n",
       "4918675  fffff031760c3f5    2014-08-11     EmailOpen\n",
       "4918676  fffff031760c3f5    2014-08-21     EmailOpen\n",
       "\n",
       "[4918677 rows x 3 columns]"
      ]
     },
     "execution_count": 222,
     "metadata": {},
     "output_type": "execute_result"
    }
   ],
   "source": [
    "df_train"
   ]
  },
  {
   "cell_type": "code",
   "execution_count": 193,
   "metadata": {},
   "outputs": [],
   "source": [
    "df_train.sort_values(by=df_train[\"Activity_Date\"],ascending=True, inplace=True)"
   ]
  },
  {
   "cell_type": "code",
   "execution_count": 225,
   "metadata": {},
   "outputs": [],
   "source": [
    "funnel_steps = [\"EmailOpen\",\"EmailClickThrough\", \"FormSubmit\", \"WebVist\", \"PageView\", \"CustomerSupport\",\"Purchase\"]"
   ]
  },
  {
   "cell_type": "code",
   "execution_count": 226,
   "metadata": {},
   "outputs": [],
   "source": [
    "# Getting insights on user behaviour using Funnel Analysis\n",
    "\n",
    "def funnelize(user_group, funnel_steps):\n",
    "    user_freq = [0 for i in funnel_steps]\n",
    "    \n",
    "    for _,row in user_group.iterrows():\n",
    "        activity = row['Activity_Type']\n",
    "        if activity in funnel_steps:\n",
    "            idx = funnel_steps.index(activity)\n",
    "            user_freq[idx] += 1\n",
    "    return user_freq"
   ]
  },
  {
   "cell_type": "code",
   "execution_count": 228,
   "metadata": {},
   "outputs": [],
   "source": [
    "grouped_data = df_train.groupby(\"User_ID\").apply(funnelize, funnel_steps)"
   ]
  },
  {
   "cell_type": "code",
   "execution_count": 232,
   "metadata": {},
   "outputs": [
    {
     "data": {
      "text/plain": [
       "User_ID\n",
       "00002acbe042d69     [9, 0, 1, 0, 0, 0, 0]\n",
       "0000a3a34bd07e6    [20, 0, 0, 0, 0, 0, 0]\n",
       "0000ecf58c94668    [11, 0, 1, 0, 0, 1, 6]\n",
       "00012205dd4613b     [2, 0, 0, 0, 0, 0, 0]\n",
       "000198d39a568cf     [0, 0, 0, 0, 0, 1, 1]\n",
       "0001b315b991cf0     [1, 0, 0, 0, 0, 0, 0]\n",
       "00022618457fcf2     [0, 0, 0, 0, 0, 1, 1]\n",
       "000256826de4432     [0, 0, 0, 0, 0, 1, 1]\n",
       "000269150971d08     [3, 0, 0, 0, 0, 0, 0]\n",
       "000297ba4fa5026     [8, 0, 0, 0, 0, 0, 0]\n",
       "0002f5c71a86aa3     [2, 0, 0, 0, 0, 0, 0]\n",
       "00031fd1fe88e97     [6, 0, 0, 0, 0, 0, 0]\n",
       "000342505b41079    [20, 0, 0, 0, 1, 0, 0]\n",
       "00034a728464ee9     [2, 0, 1, 0, 1, 0, 0]\n",
       "000350f7edefdbc     [4, 0, 0, 0, 0, 0, 0]\n",
       "0003b304dd7cfae     [4, 0, 0, 0, 0, 0, 0]\n",
       "0003c9dd1167d80     [1, 0, 0, 0, 0, 0, 0]\n",
       "0003d5a9673e71d     [3, 0, 0, 0, 0, 0, 0]\n",
       "0003d63c6efd6da     [2, 0, 0, 0, 0, 0, 0]\n",
       "0003ee709c3b5dc     [8, 0, 2, 0, 0, 0, 0]\n",
       "dtype: object"
      ]
     },
     "execution_count": 232,
     "metadata": {},
     "output_type": "execute_result"
    }
   ],
   "source": [
    "grouped_data.head(20)"
   ]
  },
  {
   "cell_type": "code",
   "execution_count": 231,
   "metadata": {},
   "outputs": [],
   "source": [
    "# activity_counts = grouped_data.apply(funnelize, activity_list, funnel_steps)"
   ]
  },
  {
   "cell_type": "code",
   "execution_count": 233,
   "metadata": {},
   "outputs": [],
   "source": [
    "newTrain = pd.DataFrame(list(grouped_data.values),index = grouped_data.index,columns = funnel_steps)"
   ]
  },
  {
   "cell_type": "code",
   "execution_count": 234,
   "metadata": {},
   "outputs": [
    {
     "data": {
      "text/html": [
       "<div>\n",
       "<style scoped>\n",
       "    .dataframe tbody tr th:only-of-type {\n",
       "        vertical-align: middle;\n",
       "    }\n",
       "\n",
       "    .dataframe tbody tr th {\n",
       "        vertical-align: top;\n",
       "    }\n",
       "\n",
       "    .dataframe thead th {\n",
       "        text-align: right;\n",
       "    }\n",
       "</style>\n",
       "<table border=\"1\" class=\"dataframe\">\n",
       "  <thead>\n",
       "    <tr style=\"text-align: right;\">\n",
       "      <th></th>\n",
       "      <th>EmailOpen</th>\n",
       "      <th>EmailClickThrough</th>\n",
       "      <th>FormSubmit</th>\n",
       "      <th>WebVist</th>\n",
       "      <th>PageView</th>\n",
       "      <th>CustomerSupport</th>\n",
       "      <th>Purchase</th>\n",
       "    </tr>\n",
       "    <tr>\n",
       "      <th>User_ID</th>\n",
       "      <th></th>\n",
       "      <th></th>\n",
       "      <th></th>\n",
       "      <th></th>\n",
       "      <th></th>\n",
       "      <th></th>\n",
       "      <th></th>\n",
       "    </tr>\n",
       "  </thead>\n",
       "  <tbody>\n",
       "    <tr>\n",
       "      <th>00002acbe042d69</th>\n",
       "      <td>9</td>\n",
       "      <td>0</td>\n",
       "      <td>1</td>\n",
       "      <td>0</td>\n",
       "      <td>0</td>\n",
       "      <td>0</td>\n",
       "      <td>0</td>\n",
       "    </tr>\n",
       "    <tr>\n",
       "      <th>0000a3a34bd07e6</th>\n",
       "      <td>20</td>\n",
       "      <td>0</td>\n",
       "      <td>0</td>\n",
       "      <td>0</td>\n",
       "      <td>0</td>\n",
       "      <td>0</td>\n",
       "      <td>0</td>\n",
       "    </tr>\n",
       "    <tr>\n",
       "      <th>0000ecf58c94668</th>\n",
       "      <td>11</td>\n",
       "      <td>0</td>\n",
       "      <td>1</td>\n",
       "      <td>0</td>\n",
       "      <td>0</td>\n",
       "      <td>1</td>\n",
       "      <td>6</td>\n",
       "    </tr>\n",
       "    <tr>\n",
       "      <th>00012205dd4613b</th>\n",
       "      <td>2</td>\n",
       "      <td>0</td>\n",
       "      <td>0</td>\n",
       "      <td>0</td>\n",
       "      <td>0</td>\n",
       "      <td>0</td>\n",
       "      <td>0</td>\n",
       "    </tr>\n",
       "    <tr>\n",
       "      <th>000198d39a568cf</th>\n",
       "      <td>0</td>\n",
       "      <td>0</td>\n",
       "      <td>0</td>\n",
       "      <td>0</td>\n",
       "      <td>0</td>\n",
       "      <td>1</td>\n",
       "      <td>1</td>\n",
       "    </tr>\n",
       "    <tr>\n",
       "      <th>...</th>\n",
       "      <td>...</td>\n",
       "      <td>...</td>\n",
       "      <td>...</td>\n",
       "      <td>...</td>\n",
       "      <td>...</td>\n",
       "      <td>...</td>\n",
       "      <td>...</td>\n",
       "    </tr>\n",
       "    <tr>\n",
       "      <th>ffffa46241fb077</th>\n",
       "      <td>0</td>\n",
       "      <td>0</td>\n",
       "      <td>0</td>\n",
       "      <td>0</td>\n",
       "      <td>0</td>\n",
       "      <td>1</td>\n",
       "      <td>2</td>\n",
       "    </tr>\n",
       "    <tr>\n",
       "      <th>ffffa4cc0190881</th>\n",
       "      <td>1</td>\n",
       "      <td>0</td>\n",
       "      <td>0</td>\n",
       "      <td>0</td>\n",
       "      <td>0</td>\n",
       "      <td>0</td>\n",
       "      <td>0</td>\n",
       "    </tr>\n",
       "    <tr>\n",
       "      <th>ffffa7beb541707</th>\n",
       "      <td>2</td>\n",
       "      <td>0</td>\n",
       "      <td>1</td>\n",
       "      <td>0</td>\n",
       "      <td>0</td>\n",
       "      <td>0</td>\n",
       "      <td>0</td>\n",
       "    </tr>\n",
       "    <tr>\n",
       "      <th>ffffecdd8dc6174</th>\n",
       "      <td>14</td>\n",
       "      <td>0</td>\n",
       "      <td>0</td>\n",
       "      <td>0</td>\n",
       "      <td>0</td>\n",
       "      <td>0</td>\n",
       "      <td>0</td>\n",
       "    </tr>\n",
       "    <tr>\n",
       "      <th>fffff031760c3f5</th>\n",
       "      <td>5</td>\n",
       "      <td>0</td>\n",
       "      <td>0</td>\n",
       "      <td>0</td>\n",
       "      <td>0</td>\n",
       "      <td>0</td>\n",
       "      <td>0</td>\n",
       "    </tr>\n",
       "  </tbody>\n",
       "</table>\n",
       "<p>341568 rows × 7 columns</p>\n",
       "</div>"
      ],
      "text/plain": [
       "                 EmailOpen  EmailClickThrough  FormSubmit  WebVist  PageView  \\\n",
       "User_ID                                                                        \n",
       "00002acbe042d69          9                  0           1        0         0   \n",
       "0000a3a34bd07e6         20                  0           0        0         0   \n",
       "0000ecf58c94668         11                  0           1        0         0   \n",
       "00012205dd4613b          2                  0           0        0         0   \n",
       "000198d39a568cf          0                  0           0        0         0   \n",
       "...                    ...                ...         ...      ...       ...   \n",
       "ffffa46241fb077          0                  0           0        0         0   \n",
       "ffffa4cc0190881          1                  0           0        0         0   \n",
       "ffffa7beb541707          2                  0           1        0         0   \n",
       "ffffecdd8dc6174         14                  0           0        0         0   \n",
       "fffff031760c3f5          5                  0           0        0         0   \n",
       "\n",
       "                 CustomerSupport  Purchase  \n",
       "User_ID                                     \n",
       "00002acbe042d69                0         0  \n",
       "0000a3a34bd07e6                0         0  \n",
       "0000ecf58c94668                1         6  \n",
       "00012205dd4613b                0         0  \n",
       "000198d39a568cf                1         1  \n",
       "...                          ...       ...  \n",
       "ffffa46241fb077                1         2  \n",
       "ffffa4cc0190881                0         0  \n",
       "ffffa7beb541707                0         0  \n",
       "ffffecdd8dc6174                0         0  \n",
       "fffff031760c3f5                0         0  \n",
       "\n",
       "[341568 rows x 7 columns]"
      ]
     },
     "execution_count": 234,
     "metadata": {},
     "output_type": "execute_result"
    }
   ],
   "source": [
    "newTrain"
   ]
  },
  {
   "cell_type": "code",
   "execution_count": 235,
   "metadata": {},
   "outputs": [
    {
     "data": {
      "image/png": "[encoded data removed]",
      "text/plain": [
       "<Figure size 432x288 with 2 Axes>"
      ]
     },
     "metadata": {
      "needs_background": "light"
     },
     "output_type": "display_data"
    }
   ],
   "source": [
    "corrMatrix = newTrain.corr()\n",
    "sns.heatmap(corrMatrix, annot=True)\n",
    "plt.show()"
   ]
  },
  {
   "cell_type": "code",
   "execution_count": null,
   "metadata": {},
   "outputs": [],
   "source": []
  },
  {
   "cell_type": "code",
   "execution_count": null,
   "metadata": {},
   "outputs": [],
   "source": []
  },
  {
   "cell_type": "code",
   "execution_count": null,
   "metadata": {},
   "outputs": [],
   "source": []
  }
 ],
 "metadata": {
  "kernelspec": {
   "display_name": "Python 3",
   "language": "python",
   "name": "python3"
  },
  "language_info": {
   "codemirror_mode": {
    "name": "ipython",
    "version": 3
   },
   "file_extension": ".py",
   "mimetype": "text/x-python",
   "name": "python",
   "nbconvert_exporter": "python",
   "pygments_lexer": "ipython3",
   "version": "3.7.6"
  }
 },
 "nbformat": 4,
 "nbformat_minor": 4
}
