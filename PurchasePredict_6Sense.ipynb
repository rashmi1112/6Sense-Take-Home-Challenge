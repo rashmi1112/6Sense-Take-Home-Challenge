{
 "cells": [
  {
   "cell_type": "code",
   "execution_count": 707,
   "metadata": {},
   "outputs": [],
   "source": [
    "import pandas as pd\n",
    "import numpy as np\n",
    "import matplotlib.pyplot as plt\n",
    "import seaborn as sns\n",
    "from sklearn import metrics\n",
    "# from sklearn.preprocessing import OneHotEncoder\n",
    "from sklearn.linear_model import LogisticRegression\n",
    "from sklearn.ensemble import RandomForestClassifier\n",
    "from sklearn.neural_network import MLPClassifier"
   ]
  },
  {
   "cell_type": "code",
   "execution_count": 708,
   "metadata": {},
   "outputs": [],
   "source": [
    "# Importing the training dataset into a pandas dataframe\n",
    "df_train = pd.read_csv(\"C:/Users/rashm/Desktop/6Sense/6sense_DS_TakeHome_Challenge/2021_6sense_DS_Takehome_Challenge/training.tsv\", sep = '\\t', header = None)\n",
    "# df_test = pd.read_csv(\"C:/Users/rashm/Desktop/6Sense/6sense_DS_TakeHome_Challenge/2021_6sense_DS_Takehome_Challenge/test.tsv\", sep = '\\t', header = None)"
   ]
  },
  {
   "cell_type": "code",
   "execution_count": 709,
   "metadata": {},
   "outputs": [
    {
     "data": {
      "text/html": [
       "<div>\n",
       "<style scoped>\n",
       "    .dataframe tbody tr th:only-of-type {\n",
       "        vertical-align: middle;\n",
       "    }\n",
       "\n",
       "    .dataframe tbody tr th {\n",
       "        vertical-align: top;\n",
       "    }\n",
       "\n",
       "    .dataframe thead th {\n",
       "        text-align: right;\n",
       "    }\n",
       "</style>\n",
       "<table border=\"1\" class=\"dataframe\">\n",
       "  <thead>\n",
       "    <tr style=\"text-align: right;\">\n",
       "      <th></th>\n",
       "      <th>0</th>\n",
       "      <th>1</th>\n",
       "      <th>2</th>\n",
       "    </tr>\n",
       "  </thead>\n",
       "  <tbody>\n",
       "    <tr>\n",
       "      <th>0</th>\n",
       "      <td>00002acbe042d69</td>\n",
       "      <td>2013-07-11</td>\n",
       "      <td>EmailOpen</td>\n",
       "    </tr>\n",
       "    <tr>\n",
       "      <th>1</th>\n",
       "      <td>00002acbe042d69</td>\n",
       "      <td>2013-07-11</td>\n",
       "      <td>FormSubmit</td>\n",
       "    </tr>\n",
       "    <tr>\n",
       "      <th>2</th>\n",
       "      <td>00002acbe042d69</td>\n",
       "      <td>2013-07-15</td>\n",
       "      <td>EmailOpen</td>\n",
       "    </tr>\n",
       "    <tr>\n",
       "      <th>3</th>\n",
       "      <td>00002acbe042d69</td>\n",
       "      <td>2013-07-17</td>\n",
       "      <td>EmailOpen</td>\n",
       "    </tr>\n",
       "    <tr>\n",
       "      <th>4</th>\n",
       "      <td>00002acbe042d69</td>\n",
       "      <td>2013-07-18</td>\n",
       "      <td>EmailOpen</td>\n",
       "    </tr>\n",
       "  </tbody>\n",
       "</table>\n",
       "</div>"
      ],
      "text/plain": [
       "                 0           1           2\n",
       "0  00002acbe042d69  2013-07-11   EmailOpen\n",
       "1  00002acbe042d69  2013-07-11  FormSubmit\n",
       "2  00002acbe042d69  2013-07-15   EmailOpen\n",
       "3  00002acbe042d69  2013-07-17   EmailOpen\n",
       "4  00002acbe042d69  2013-07-18   EmailOpen"
      ]
     },
     "execution_count": 709,
     "metadata": {},
     "output_type": "execute_result"
    }
   ],
   "source": [
    "df_train.head()"
   ]
  },
  {
   "cell_type": "code",
   "execution_count": 710,
   "metadata": {},
   "outputs": [],
   "source": [
    "# Giving proper column values according to the description\n",
    "df_train.columns = ['User_ID','Activity_Date','Activity_Type']"
   ]
  },
  {
   "cell_type": "code",
   "execution_count": 711,
   "metadata": {},
   "outputs": [
    {
     "data": {
      "text/html": [
       "<div>\n",
       "<style scoped>\n",
       "    .dataframe tbody tr th:only-of-type {\n",
       "        vertical-align: middle;\n",
       "    }\n",
       "\n",
       "    .dataframe tbody tr th {\n",
       "        vertical-align: top;\n",
       "    }\n",
       "\n",
       "    .dataframe thead th {\n",
       "        text-align: right;\n",
       "    }\n",
       "</style>\n",
       "<table border=\"1\" class=\"dataframe\">\n",
       "  <thead>\n",
       "    <tr style=\"text-align: right;\">\n",
       "      <th></th>\n",
       "      <th>User_ID</th>\n",
       "      <th>Activity_Date</th>\n",
       "      <th>Activity_Type</th>\n",
       "    </tr>\n",
       "  </thead>\n",
       "  <tbody>\n",
       "    <tr>\n",
       "      <th>count</th>\n",
       "      <td>4918677</td>\n",
       "      <td>4918677</td>\n",
       "      <td>4918677</td>\n",
       "    </tr>\n",
       "    <tr>\n",
       "      <th>unique</th>\n",
       "      <td>341568</td>\n",
       "      <td>671</td>\n",
       "      <td>7</td>\n",
       "    </tr>\n",
       "    <tr>\n",
       "      <th>top</th>\n",
       "      <td>2cd311cc3ef2d0c</td>\n",
       "      <td>2014-06-18</td>\n",
       "      <td>EmailOpen</td>\n",
       "    </tr>\n",
       "    <tr>\n",
       "      <th>freq</th>\n",
       "      <td>2718</td>\n",
       "      <td>50184</td>\n",
       "      <td>3191732</td>\n",
       "    </tr>\n",
       "  </tbody>\n",
       "</table>\n",
       "</div>"
      ],
      "text/plain": [
       "                User_ID Activity_Date Activity_Type\n",
       "count           4918677       4918677       4918677\n",
       "unique           341568           671             7\n",
       "top     2cd311cc3ef2d0c    2014-06-18     EmailOpen\n",
       "freq               2718         50184       3191732"
      ]
     },
     "execution_count": 711,
     "metadata": {},
     "output_type": "execute_result"
    }
   ],
   "source": [
    "# Understanding the dataset better\n",
    "# Getting the descriptive statstics parameters for the dataset\n",
    "\n",
    "df_train.describe(include = 'all')"
   ]
  },
  {
   "cell_type": "code",
   "execution_count": 712,
   "metadata": {},
   "outputs": [
    {
     "data": {
      "text/plain": [
       "User_ID          0\n",
       "Activity_Date    0\n",
       "Activity_Type    0\n",
       "dtype: int64"
      ]
     },
     "execution_count": 712,
     "metadata": {},
     "output_type": "execute_result"
    }
   ],
   "source": [
    "# Checking for missing values in the dataset\n",
    "\n",
    "df_train.isnull().sum()"
   ]
  },
  {
   "cell_type": "code",
   "execution_count": 713,
   "metadata": {},
   "outputs": [
    {
     "data": {
      "image/png": "[encoded data removed]",
      "text/plain": [
       "<Figure size 1152x648 with 1 Axes>"
      ]
     },
     "metadata": {
      "needs_background": "light"
     },
     "output_type": "display_data"
    }
   ],
   "source": [
    "# Univariate Analysis to understand better the distribution of user activity across number of users\n",
    "\n",
    "df_train['Activity_Type'].value_counts().plot(kind='bar', title = 'User_Activity_Type', figsize=(16,9))\n",
    "plt.xticks(rotation=0)\n",
    "plt.show() "
   ]
  },
  {
   "cell_type": "code",
   "execution_count": 714,
   "metadata": {},
   "outputs": [],
   "source": [
    "df_train['Activity_Type'] = df_train['Activity_Type'].astype('category')"
   ]
  },
  {
   "cell_type": "code",
   "execution_count": 885,
   "metadata": {},
   "outputs": [],
   "source": [
    "df_train['Activity_Date'] = pd.to_datetime(df_train['Activity_Date'])\n",
    "date_range = str(df_train['Activity_Date'].dt.date.min()) + ' to ' +str(df_train['Activity_Date'].dt.date.max())"
   ]
  },
  {
   "cell_type": "code",
   "execution_count": 886,
   "metadata": {},
   "outputs": [
    {
     "data": {
      "text/plain": [
       "'2013-07-01 to 2015-05-02'"
      ]
     },
     "execution_count": 886,
     "metadata": {},
     "output_type": "execute_result"
    }
   ],
   "source": [
    "date_range"
   ]
  },
  {
   "cell_type": "code",
   "execution_count": 820,
   "metadata": {},
   "outputs": [
    {
     "data": {
      "text/html": [
       "<div>\n",
       "<style scoped>\n",
       "    .dataframe tbody tr th:only-of-type {\n",
       "        vertical-align: middle;\n",
       "    }\n",
       "\n",
       "    .dataframe tbody tr th {\n",
       "        vertical-align: top;\n",
       "    }\n",
       "\n",
       "    .dataframe thead th {\n",
       "        text-align: right;\n",
       "    }\n",
       "</style>\n",
       "<table border=\"1\" class=\"dataframe\">\n",
       "  <thead>\n",
       "    <tr style=\"text-align: right;\">\n",
       "      <th></th>\n",
       "      <th>User_ID</th>\n",
       "      <th>Activity_Type</th>\n",
       "    </tr>\n",
       "    <tr>\n",
       "      <th>Activity_Date</th>\n",
       "      <th></th>\n",
       "      <th></th>\n",
       "    </tr>\n",
       "  </thead>\n",
       "  <tbody>\n",
       "    <tr>\n",
       "      <th>2013-07-01</th>\n",
       "      <td>abe612750468918</td>\n",
       "      <td>EmailOpen</td>\n",
       "    </tr>\n",
       "    <tr>\n",
       "      <th>2013-07-01</th>\n",
       "      <td>643612d119b3266</td>\n",
       "      <td>EmailOpen</td>\n",
       "    </tr>\n",
       "    <tr>\n",
       "      <th>2013-07-01</th>\n",
       "      <td>922ca60b7d34108</td>\n",
       "      <td>EmailOpen</td>\n",
       "    </tr>\n",
       "    <tr>\n",
       "      <th>2013-07-01</th>\n",
       "      <td>431eaf34dacba85</td>\n",
       "      <td>EmailOpen</td>\n",
       "    </tr>\n",
       "    <tr>\n",
       "      <th>2013-07-01</th>\n",
       "      <td>02bfea1fe47d55c</td>\n",
       "      <td>EmailClickthrough</td>\n",
       "    </tr>\n",
       "    <tr>\n",
       "      <th>...</th>\n",
       "      <td>...</td>\n",
       "      <td>...</td>\n",
       "    </tr>\n",
       "    <tr>\n",
       "      <th>2015-05-02</th>\n",
       "      <td>141e70bbc356ed8</td>\n",
       "      <td>CustomerSupport</td>\n",
       "    </tr>\n",
       "    <tr>\n",
       "      <th>2015-05-02</th>\n",
       "      <td>46b01cb03cd401e</td>\n",
       "      <td>CustomerSupport</td>\n",
       "    </tr>\n",
       "    <tr>\n",
       "      <th>2015-05-02</th>\n",
       "      <td>899c994f9a86a85</td>\n",
       "      <td>CustomerSupport</td>\n",
       "    </tr>\n",
       "    <tr>\n",
       "      <th>2015-05-02</th>\n",
       "      <td>5d24b3a8d2cdc08</td>\n",
       "      <td>CustomerSupport</td>\n",
       "    </tr>\n",
       "    <tr>\n",
       "      <th>2015-05-02</th>\n",
       "      <td>0cd03ccbd353459</td>\n",
       "      <td>CustomerSupport</td>\n",
       "    </tr>\n",
       "  </tbody>\n",
       "</table>\n",
       "<p>4918677 rows × 2 columns</p>\n",
       "</div>"
      ],
      "text/plain": [
       "                       User_ID      Activity_Type\n",
       "Activity_Date                                    \n",
       "2013-07-01     abe612750468918          EmailOpen\n",
       "2013-07-01     643612d119b3266          EmailOpen\n",
       "2013-07-01     922ca60b7d34108          EmailOpen\n",
       "2013-07-01     431eaf34dacba85          EmailOpen\n",
       "2013-07-01     02bfea1fe47d55c  EmailClickthrough\n",
       "...                        ...                ...\n",
       "2015-05-02     141e70bbc356ed8    CustomerSupport\n",
       "2015-05-02     46b01cb03cd401e    CustomerSupport\n",
       "2015-05-02     899c994f9a86a85    CustomerSupport\n",
       "2015-05-02     5d24b3a8d2cdc08    CustomerSupport\n",
       "2015-05-02     0cd03ccbd353459    CustomerSupport\n",
       "\n",
       "[4918677 rows x 2 columns]"
      ]
     },
     "execution_count": 820,
     "metadata": {},
     "output_type": "execute_result"
    }
   ],
   "source": [
    "df_train.set_index('Activity_Date')"
   ]
  },
  {
   "cell_type": "code",
   "execution_count": null,
   "metadata": {},
   "outputs": [],
   "source": []
  },
  {
   "cell_type": "code",
   "execution_count": 716,
   "metadata": {},
   "outputs": [],
   "source": [
    "funnel_steps = [\"EmailOpen\",\"EmailClickthrough\", \"FormSubmit\", \"WebVisit\", \"PageView\", \"CustomerSupport\",\"Purchase\"]"
   ]
  },
  {
   "cell_type": "code",
   "execution_count": 717,
   "metadata": {},
   "outputs": [],
   "source": [
    "# Getting insights on user behaviour using Funnel Analysis\n",
    "\n",
    "def funnelize(user_group, funnel_steps):\n",
    "    user_freq = [0 for i in funnel_steps]\n",
    "    \n",
    "    for _,row in user_group.iterrows():\n",
    "        activity = row['Activity_Type']\n",
    "        if activity in funnel_steps:\n",
    "            idx = funnel_steps.index(activity)\n",
    "            user_freq[idx] += 1\n",
    "    return user_freq"
   ]
  },
  {
   "cell_type": "code",
   "execution_count": 330,
   "metadata": {},
   "outputs": [],
   "source": [
    "grouped_data = df_train.groupby(\"User_ID\").apply(funnelize, funnel_steps)"
   ]
  },
  {
   "cell_type": "code",
   "execution_count": 720,
   "metadata": {},
   "outputs": [],
   "source": [
    "user_to_activity = pd.DataFrame(list(grouped_data.values),index = grouped_data.index,columns = funnel_steps)"
   ]
  },
  {
   "cell_type": "code",
   "execution_count": 721,
   "metadata": {},
   "outputs": [
    {
     "data": {
      "text/html": [
       "<div>\n",
       "<style scoped>\n",
       "    .dataframe tbody tr th:only-of-type {\n",
       "        vertical-align: middle;\n",
       "    }\n",
       "\n",
       "    .dataframe tbody tr th {\n",
       "        vertical-align: top;\n",
       "    }\n",
       "\n",
       "    .dataframe thead th {\n",
       "        text-align: right;\n",
       "    }\n",
       "</style>\n",
       "<table border=\"1\" class=\"dataframe\">\n",
       "  <thead>\n",
       "    <tr style=\"text-align: right;\">\n",
       "      <th></th>\n",
       "      <th>EmailOpen</th>\n",
       "      <th>EmailClickthrough</th>\n",
       "      <th>FormSubmit</th>\n",
       "      <th>WebVisit</th>\n",
       "      <th>PageView</th>\n",
       "      <th>CustomerSupport</th>\n",
       "      <th>Purchase</th>\n",
       "    </tr>\n",
       "    <tr>\n",
       "      <th>User_ID</th>\n",
       "      <th></th>\n",
       "      <th></th>\n",
       "      <th></th>\n",
       "      <th></th>\n",
       "      <th></th>\n",
       "      <th></th>\n",
       "      <th></th>\n",
       "    </tr>\n",
       "  </thead>\n",
       "  <tbody>\n",
       "    <tr>\n",
       "      <th>00002acbe042d69</th>\n",
       "      <td>9</td>\n",
       "      <td>0</td>\n",
       "      <td>1</td>\n",
       "      <td>0</td>\n",
       "      <td>0</td>\n",
       "      <td>0</td>\n",
       "      <td>0</td>\n",
       "    </tr>\n",
       "    <tr>\n",
       "      <th>0000a3a34bd07e6</th>\n",
       "      <td>20</td>\n",
       "      <td>0</td>\n",
       "      <td>0</td>\n",
       "      <td>0</td>\n",
       "      <td>0</td>\n",
       "      <td>0</td>\n",
       "      <td>0</td>\n",
       "    </tr>\n",
       "    <tr>\n",
       "      <th>0000ecf58c94668</th>\n",
       "      <td>11</td>\n",
       "      <td>1</td>\n",
       "      <td>1</td>\n",
       "      <td>0</td>\n",
       "      <td>0</td>\n",
       "      <td>1</td>\n",
       "      <td>6</td>\n",
       "    </tr>\n",
       "    <tr>\n",
       "      <th>00012205dd4613b</th>\n",
       "      <td>2</td>\n",
       "      <td>0</td>\n",
       "      <td>0</td>\n",
       "      <td>0</td>\n",
       "      <td>0</td>\n",
       "      <td>0</td>\n",
       "      <td>0</td>\n",
       "    </tr>\n",
       "    <tr>\n",
       "      <th>000198d39a568cf</th>\n",
       "      <td>0</td>\n",
       "      <td>0</td>\n",
       "      <td>0</td>\n",
       "      <td>0</td>\n",
       "      <td>0</td>\n",
       "      <td>1</td>\n",
       "      <td>1</td>\n",
       "    </tr>\n",
       "    <tr>\n",
       "      <th>0001b315b991cf0</th>\n",
       "      <td>1</td>\n",
       "      <td>0</td>\n",
       "      <td>0</td>\n",
       "      <td>0</td>\n",
       "      <td>0</td>\n",
       "      <td>0</td>\n",
       "      <td>0</td>\n",
       "    </tr>\n",
       "    <tr>\n",
       "      <th>00022618457fcf2</th>\n",
       "      <td>0</td>\n",
       "      <td>0</td>\n",
       "      <td>0</td>\n",
       "      <td>0</td>\n",
       "      <td>0</td>\n",
       "      <td>1</td>\n",
       "      <td>1</td>\n",
       "    </tr>\n",
       "    <tr>\n",
       "      <th>000256826de4432</th>\n",
       "      <td>0</td>\n",
       "      <td>0</td>\n",
       "      <td>0</td>\n",
       "      <td>0</td>\n",
       "      <td>0</td>\n",
       "      <td>1</td>\n",
       "      <td>1</td>\n",
       "    </tr>\n",
       "    <tr>\n",
       "      <th>000269150971d08</th>\n",
       "      <td>3</td>\n",
       "      <td>0</td>\n",
       "      <td>0</td>\n",
       "      <td>0</td>\n",
       "      <td>0</td>\n",
       "      <td>0</td>\n",
       "      <td>0</td>\n",
       "    </tr>\n",
       "    <tr>\n",
       "      <th>000297ba4fa5026</th>\n",
       "      <td>8</td>\n",
       "      <td>0</td>\n",
       "      <td>0</td>\n",
       "      <td>0</td>\n",
       "      <td>0</td>\n",
       "      <td>0</td>\n",
       "      <td>0</td>\n",
       "    </tr>\n",
       "  </tbody>\n",
       "</table>\n",
       "</div>"
      ],
      "text/plain": [
       "                 EmailOpen  EmailClickthrough  FormSubmit  WebVisit  PageView  \\\n",
       "User_ID                                                                         \n",
       "00002acbe042d69          9                  0           1         0         0   \n",
       "0000a3a34bd07e6         20                  0           0         0         0   \n",
       "0000ecf58c94668         11                  1           1         0         0   \n",
       "00012205dd4613b          2                  0           0         0         0   \n",
       "000198d39a568cf          0                  0           0         0         0   \n",
       "0001b315b991cf0          1                  0           0         0         0   \n",
       "00022618457fcf2          0                  0           0         0         0   \n",
       "000256826de4432          0                  0           0         0         0   \n",
       "000269150971d08          3                  0           0         0         0   \n",
       "000297ba4fa5026          8                  0           0         0         0   \n",
       "\n",
       "                 CustomerSupport  Purchase  \n",
       "User_ID                                     \n",
       "00002acbe042d69                0         0  \n",
       "0000a3a34bd07e6                0         0  \n",
       "0000ecf58c94668                1         6  \n",
       "00012205dd4613b                0         0  \n",
       "000198d39a568cf                1         1  \n",
       "0001b315b991cf0                0         0  \n",
       "00022618457fcf2                1         1  \n",
       "000256826de4432                1         1  \n",
       "000269150971d08                0         0  \n",
       "000297ba4fa5026                0         0  "
      ]
     },
     "execution_count": 721,
     "metadata": {},
     "output_type": "execute_result"
    }
   ],
   "source": [
    "user_to_activity.head(10)"
   ]
  },
  {
   "cell_type": "code",
   "execution_count": 722,
   "metadata": {},
   "outputs": [
    {
     "data": {
      "image/png": "[encoded data removed]",
      "text/plain": [
       "<Figure size 432x288 with 2 Axes>"
      ]
     },
     "metadata": {
      "needs_background": "light"
     },
     "output_type": "display_data"
    }
   ],
   "source": [
    "corrMatrix = user_to_activity.corr()\n",
    "dataplot = sns.heatmap(corrMatrix, cmap=\"YlGnBu\", annot=True)\n",
    "plt.show()"
   ]
  },
  {
   "cell_type": "code",
   "execution_count": 723,
   "metadata": {},
   "outputs": [],
   "source": [
    "# As we can see, WebVisit and PageView have high correlation value, it is better to remove one feature. This would reduce the\n",
    "# dimentionality of the dataset and make our model coparitively faster.\n",
    "\n",
    "user_to_activity = user_to_activity.drop(['WebVisit', 'CustomerSupport'], axis=1)"
   ]
  },
  {
   "cell_type": "code",
   "execution_count": null,
   "metadata": {},
   "outputs": [],
   "source": [
    "user_to_activity = user_to_activity.drop(['CustomerSupport'], axis=1)"
   ]
  },
  {
   "cell_type": "code",
   "execution_count": 724,
   "metadata": {},
   "outputs": [],
   "source": [
    "user_to_activity[\"Purchased?\"] = np.where(user_to_activity[\"Purchase\"] >= 1, 1, 0)"
   ]
  },
  {
   "cell_type": "code",
   "execution_count": 725,
   "metadata": {},
   "outputs": [
    {
     "data": {
      "text/html": [
       "<div>\n",
       "<style scoped>\n",
       "    .dataframe tbody tr th:only-of-type {\n",
       "        vertical-align: middle;\n",
       "    }\n",
       "\n",
       "    .dataframe tbody tr th {\n",
       "        vertical-align: top;\n",
       "    }\n",
       "\n",
       "    .dataframe thead th {\n",
       "        text-align: right;\n",
       "    }\n",
       "</style>\n",
       "<table border=\"1\" class=\"dataframe\">\n",
       "  <thead>\n",
       "    <tr style=\"text-align: right;\">\n",
       "      <th></th>\n",
       "      <th>EmailOpen</th>\n",
       "      <th>EmailClickthrough</th>\n",
       "      <th>FormSubmit</th>\n",
       "      <th>PageView</th>\n",
       "      <th>Purchase</th>\n",
       "      <th>Purchased?</th>\n",
       "    </tr>\n",
       "    <tr>\n",
       "      <th>User_ID</th>\n",
       "      <th></th>\n",
       "      <th></th>\n",
       "      <th></th>\n",
       "      <th></th>\n",
       "      <th></th>\n",
       "      <th></th>\n",
       "    </tr>\n",
       "  </thead>\n",
       "  <tbody>\n",
       "    <tr>\n",
       "      <th>00002acbe042d69</th>\n",
       "      <td>9</td>\n",
       "      <td>0</td>\n",
       "      <td>1</td>\n",
       "      <td>0</td>\n",
       "      <td>0</td>\n",
       "      <td>0</td>\n",
       "    </tr>\n",
       "    <tr>\n",
       "      <th>0000a3a34bd07e6</th>\n",
       "      <td>20</td>\n",
       "      <td>0</td>\n",
       "      <td>0</td>\n",
       "      <td>0</td>\n",
       "      <td>0</td>\n",
       "      <td>0</td>\n",
       "    </tr>\n",
       "    <tr>\n",
       "      <th>0000ecf58c94668</th>\n",
       "      <td>11</td>\n",
       "      <td>1</td>\n",
       "      <td>1</td>\n",
       "      <td>0</td>\n",
       "      <td>6</td>\n",
       "      <td>1</td>\n",
       "    </tr>\n",
       "    <tr>\n",
       "      <th>00012205dd4613b</th>\n",
       "      <td>2</td>\n",
       "      <td>0</td>\n",
       "      <td>0</td>\n",
       "      <td>0</td>\n",
       "      <td>0</td>\n",
       "      <td>0</td>\n",
       "    </tr>\n",
       "    <tr>\n",
       "      <th>000198d39a568cf</th>\n",
       "      <td>0</td>\n",
       "      <td>0</td>\n",
       "      <td>0</td>\n",
       "      <td>0</td>\n",
       "      <td>1</td>\n",
       "      <td>1</td>\n",
       "    </tr>\n",
       "    <tr>\n",
       "      <th>...</th>\n",
       "      <td>...</td>\n",
       "      <td>...</td>\n",
       "      <td>...</td>\n",
       "      <td>...</td>\n",
       "      <td>...</td>\n",
       "      <td>...</td>\n",
       "    </tr>\n",
       "    <tr>\n",
       "      <th>ffffa46241fb077</th>\n",
       "      <td>0</td>\n",
       "      <td>0</td>\n",
       "      <td>0</td>\n",
       "      <td>0</td>\n",
       "      <td>2</td>\n",
       "      <td>1</td>\n",
       "    </tr>\n",
       "    <tr>\n",
       "      <th>ffffa4cc0190881</th>\n",
       "      <td>1</td>\n",
       "      <td>0</td>\n",
       "      <td>0</td>\n",
       "      <td>0</td>\n",
       "      <td>0</td>\n",
       "      <td>0</td>\n",
       "    </tr>\n",
       "    <tr>\n",
       "      <th>ffffa7beb541707</th>\n",
       "      <td>2</td>\n",
       "      <td>0</td>\n",
       "      <td>1</td>\n",
       "      <td>0</td>\n",
       "      <td>0</td>\n",
       "      <td>0</td>\n",
       "    </tr>\n",
       "    <tr>\n",
       "      <th>ffffecdd8dc6174</th>\n",
       "      <td>14</td>\n",
       "      <td>0</td>\n",
       "      <td>0</td>\n",
       "      <td>0</td>\n",
       "      <td>0</td>\n",
       "      <td>0</td>\n",
       "    </tr>\n",
       "    <tr>\n",
       "      <th>fffff031760c3f5</th>\n",
       "      <td>5</td>\n",
       "      <td>0</td>\n",
       "      <td>0</td>\n",
       "      <td>0</td>\n",
       "      <td>0</td>\n",
       "      <td>0</td>\n",
       "    </tr>\n",
       "  </tbody>\n",
       "</table>\n",
       "<p>341568 rows × 6 columns</p>\n",
       "</div>"
      ],
      "text/plain": [
       "                 EmailOpen  EmailClickthrough  FormSubmit  PageView  Purchase  \\\n",
       "User_ID                                                                         \n",
       "00002acbe042d69          9                  0           1         0         0   \n",
       "0000a3a34bd07e6         20                  0           0         0         0   \n",
       "0000ecf58c94668         11                  1           1         0         6   \n",
       "00012205dd4613b          2                  0           0         0         0   \n",
       "000198d39a568cf          0                  0           0         0         1   \n",
       "...                    ...                ...         ...       ...       ...   \n",
       "ffffa46241fb077          0                  0           0         0         2   \n",
       "ffffa4cc0190881          1                  0           0         0         0   \n",
       "ffffa7beb541707          2                  0           1         0         0   \n",
       "ffffecdd8dc6174         14                  0           0         0         0   \n",
       "fffff031760c3f5          5                  0           0         0         0   \n",
       "\n",
       "                 Purchased?  \n",
       "User_ID                      \n",
       "00002acbe042d69           0  \n",
       "0000a3a34bd07e6           0  \n",
       "0000ecf58c94668           1  \n",
       "00012205dd4613b           0  \n",
       "000198d39a568cf           1  \n",
       "...                     ...  \n",
       "ffffa46241fb077           1  \n",
       "ffffa4cc0190881           0  \n",
       "ffffa7beb541707           0  \n",
       "ffffecdd8dc6174           0  \n",
       "fffff031760c3f5           0  \n",
       "\n",
       "[341568 rows x 6 columns]"
      ]
     },
     "execution_count": 725,
     "metadata": {},
     "output_type": "execute_result"
    }
   ],
   "source": [
    "user_to_activity"
   ]
  },
  {
   "cell_type": "code",
   "execution_count": 726,
   "metadata": {},
   "outputs": [],
   "source": [
    "train = user_to_activity.sample(frac = 0.7)"
   ]
  },
  {
   "cell_type": "code",
   "execution_count": 727,
   "metadata": {},
   "outputs": [],
   "source": [
    "test = user_to_activity.loc[~user_to_activity.index.isin(train_df.index)]"
   ]
  },
  {
   "cell_type": "code",
   "execution_count": 728,
   "metadata": {},
   "outputs": [],
   "source": [
    "train = train.to_numpy()\n",
    "test = test.to_numpy()"
   ]
  },
  {
   "cell_type": "code",
   "execution_count": 729,
   "metadata": {},
   "outputs": [],
   "source": [
    "X_train = train[:,:-2]"
   ]
  },
  {
   "cell_type": "code",
   "execution_count": 730,
   "metadata": {},
   "outputs": [],
   "source": [
    "Y_train = train[:,-1]"
   ]
  },
  {
   "cell_type": "code",
   "execution_count": 731,
   "metadata": {},
   "outputs": [],
   "source": [
    "X_test = test[:,:-2]"
   ]
  },
  {
   "cell_type": "code",
   "execution_count": 732,
   "metadata": {},
   "outputs": [],
   "source": [
    "Y_test = test[:,-1]"
   ]
  },
  {
   "cell_type": "code",
   "execution_count": 733,
   "metadata": {},
   "outputs": [],
   "source": [
    "model = LogisticRegression()"
   ]
  },
  {
   "cell_type": "code",
   "execution_count": 734,
   "metadata": {},
   "outputs": [
    {
     "data": {
      "text/plain": [
       "LogisticRegression(C=1.0, class_weight=None, dual=False, fit_intercept=True,\n",
       "                   intercept_scaling=1, l1_ratio=None, max_iter=100,\n",
       "                   multi_class='auto', n_jobs=None, penalty='l2',\n",
       "                   random_state=None, solver='lbfgs', tol=0.0001, verbose=0,\n",
       "                   warm_start=False)"
      ]
     },
     "execution_count": 734,
     "metadata": {},
     "output_type": "execute_result"
    }
   ],
   "source": [
    "model.fit(X_train, Y_train)"
   ]
  },
  {
   "cell_type": "code",
   "execution_count": 735,
   "metadata": {},
   "outputs": [],
   "source": [
    "predicted = model.predict(X_test)"
   ]
  },
  {
   "cell_type": "code",
   "execution_count": 736,
   "metadata": {},
   "outputs": [
    {
     "name": "stdout",
     "output_type": "stream",
     "text": [
      "              precision    recall  f1-score   support\n",
      "\n",
      "           0       0.70      1.00      0.82     71193\n",
      "           1       0.73      0.02      0.05     31277\n",
      "\n",
      "    accuracy                           0.70    102470\n",
      "   macro avg       0.71      0.51      0.43    102470\n",
      "weighted avg       0.71      0.70      0.58    102470\n",
      "\n"
     ]
    }
   ],
   "source": [
    "print(metrics.classification_report(Y_test, predicted))"
   ]
  },
  {
   "cell_type": "code",
   "execution_count": 737,
   "metadata": {},
   "outputs": [
    {
     "data": {
      "text/plain": [
       "<matplotlib.axes._subplots.AxesSubplot at 0x131b7204808>"
      ]
     },
     "execution_count": 737,
     "metadata": {},
     "output_type": "execute_result"
    },
    {
     "data": {
      "image/png": "[encoded data removed]",
      "text/plain": [
       "<Figure size 432x288 with 2 Axes>"
      ]
     },
     "metadata": {
      "needs_background": "light"
     },
     "output_type": "display_data"
    }
   ],
   "source": [
    "cf_matrix = metrics.confusion_matrix(Y_test, predicted)\n",
    "sns.heatmap(cf_matrix,  cmap=\"YlGnBu\", annot=True, fmt='g')"
   ]
  },
  {
   "cell_type": "code",
   "execution_count": 829,
   "metadata": {},
   "outputs": [],
   "source": [
    "# Random Forest Approach\n",
    "user_to_activity = pd.DataFrame(list(grouped_data.values),index = grouped_data.index,columns = funnel_steps)\n"
   ]
  },
  {
   "cell_type": "code",
   "execution_count": 830,
   "metadata": {},
   "outputs": [],
   "source": [
    "user_to_activity = user_to_activity.drop(['CustomerSupport'], axis=1)"
   ]
  },
  {
   "cell_type": "code",
   "execution_count": 831,
   "metadata": {},
   "outputs": [],
   "source": [
    "user_to_activity[\"Purchased?\"] = np.where(user_to_activity[\"Purchase\"] >= 1, 1, 0)"
   ]
  },
  {
   "cell_type": "code",
   "execution_count": 832,
   "metadata": {},
   "outputs": [
    {
     "data": {
      "text/html": [
       "<div>\n",
       "<style scoped>\n",
       "    .dataframe tbody tr th:only-of-type {\n",
       "        vertical-align: middle;\n",
       "    }\n",
       "\n",
       "    .dataframe tbody tr th {\n",
       "        vertical-align: top;\n",
       "    }\n",
       "\n",
       "    .dataframe thead th {\n",
       "        text-align: right;\n",
       "    }\n",
       "</style>\n",
       "<table border=\"1\" class=\"dataframe\">\n",
       "  <thead>\n",
       "    <tr style=\"text-align: right;\">\n",
       "      <th></th>\n",
       "      <th>EmailOpen</th>\n",
       "      <th>EmailClickthrough</th>\n",
       "      <th>FormSubmit</th>\n",
       "      <th>WebVisit</th>\n",
       "      <th>PageView</th>\n",
       "      <th>Purchase</th>\n",
       "      <th>Purchased?</th>\n",
       "    </tr>\n",
       "    <tr>\n",
       "      <th>User_ID</th>\n",
       "      <th></th>\n",
       "      <th></th>\n",
       "      <th></th>\n",
       "      <th></th>\n",
       "      <th></th>\n",
       "      <th></th>\n",
       "      <th></th>\n",
       "    </tr>\n",
       "  </thead>\n",
       "  <tbody>\n",
       "    <tr>\n",
       "      <th>00002acbe042d69</th>\n",
       "      <td>9</td>\n",
       "      <td>0</td>\n",
       "      <td>1</td>\n",
       "      <td>0</td>\n",
       "      <td>0</td>\n",
       "      <td>0</td>\n",
       "      <td>0</td>\n",
       "    </tr>\n",
       "    <tr>\n",
       "      <th>0000a3a34bd07e6</th>\n",
       "      <td>20</td>\n",
       "      <td>0</td>\n",
       "      <td>0</td>\n",
       "      <td>0</td>\n",
       "      <td>0</td>\n",
       "      <td>0</td>\n",
       "      <td>0</td>\n",
       "    </tr>\n",
       "    <tr>\n",
       "      <th>0000ecf58c94668</th>\n",
       "      <td>11</td>\n",
       "      <td>1</td>\n",
       "      <td>1</td>\n",
       "      <td>0</td>\n",
       "      <td>0</td>\n",
       "      <td>6</td>\n",
       "      <td>1</td>\n",
       "    </tr>\n",
       "    <tr>\n",
       "      <th>00012205dd4613b</th>\n",
       "      <td>2</td>\n",
       "      <td>0</td>\n",
       "      <td>0</td>\n",
       "      <td>0</td>\n",
       "      <td>0</td>\n",
       "      <td>0</td>\n",
       "      <td>0</td>\n",
       "    </tr>\n",
       "    <tr>\n",
       "      <th>000198d39a568cf</th>\n",
       "      <td>0</td>\n",
       "      <td>0</td>\n",
       "      <td>0</td>\n",
       "      <td>0</td>\n",
       "      <td>0</td>\n",
       "      <td>1</td>\n",
       "      <td>1</td>\n",
       "    </tr>\n",
       "    <tr>\n",
       "      <th>...</th>\n",
       "      <td>...</td>\n",
       "      <td>...</td>\n",
       "      <td>...</td>\n",
       "      <td>...</td>\n",
       "      <td>...</td>\n",
       "      <td>...</td>\n",
       "      <td>...</td>\n",
       "    </tr>\n",
       "    <tr>\n",
       "      <th>ffffa46241fb077</th>\n",
       "      <td>0</td>\n",
       "      <td>0</td>\n",
       "      <td>0</td>\n",
       "      <td>0</td>\n",
       "      <td>0</td>\n",
       "      <td>2</td>\n",
       "      <td>1</td>\n",
       "    </tr>\n",
       "    <tr>\n",
       "      <th>ffffa4cc0190881</th>\n",
       "      <td>1</td>\n",
       "      <td>0</td>\n",
       "      <td>0</td>\n",
       "      <td>0</td>\n",
       "      <td>0</td>\n",
       "      <td>0</td>\n",
       "      <td>0</td>\n",
       "    </tr>\n",
       "    <tr>\n",
       "      <th>ffffa7beb541707</th>\n",
       "      <td>2</td>\n",
       "      <td>0</td>\n",
       "      <td>1</td>\n",
       "      <td>0</td>\n",
       "      <td>0</td>\n",
       "      <td>0</td>\n",
       "      <td>0</td>\n",
       "    </tr>\n",
       "    <tr>\n",
       "      <th>ffffecdd8dc6174</th>\n",
       "      <td>14</td>\n",
       "      <td>0</td>\n",
       "      <td>0</td>\n",
       "      <td>0</td>\n",
       "      <td>0</td>\n",
       "      <td>0</td>\n",
       "      <td>0</td>\n",
       "    </tr>\n",
       "    <tr>\n",
       "      <th>fffff031760c3f5</th>\n",
       "      <td>5</td>\n",
       "      <td>0</td>\n",
       "      <td>0</td>\n",
       "      <td>0</td>\n",
       "      <td>0</td>\n",
       "      <td>0</td>\n",
       "      <td>0</td>\n",
       "    </tr>\n",
       "  </tbody>\n",
       "</table>\n",
       "<p>341568 rows × 7 columns</p>\n",
       "</div>"
      ],
      "text/plain": [
       "                 EmailOpen  EmailClickthrough  FormSubmit  WebVisit  PageView  \\\n",
       "User_ID                                                                         \n",
       "00002acbe042d69          9                  0           1         0         0   \n",
       "0000a3a34bd07e6         20                  0           0         0         0   \n",
       "0000ecf58c94668         11                  1           1         0         0   \n",
       "00012205dd4613b          2                  0           0         0         0   \n",
       "000198d39a568cf          0                  0           0         0         0   \n",
       "...                    ...                ...         ...       ...       ...   \n",
       "ffffa46241fb077          0                  0           0         0         0   \n",
       "ffffa4cc0190881          1                  0           0         0         0   \n",
       "ffffa7beb541707          2                  0           1         0         0   \n",
       "ffffecdd8dc6174         14                  0           0         0         0   \n",
       "fffff031760c3f5          5                  0           0         0         0   \n",
       "\n",
       "                 Purchase  Purchased?  \n",
       "User_ID                                \n",
       "00002acbe042d69         0           0  \n",
       "0000a3a34bd07e6         0           0  \n",
       "0000ecf58c94668         6           1  \n",
       "00012205dd4613b         0           0  \n",
       "000198d39a568cf         1           1  \n",
       "...                   ...         ...  \n",
       "ffffa46241fb077         2           1  \n",
       "ffffa4cc0190881         0           0  \n",
       "ffffa7beb541707         0           0  \n",
       "ffffecdd8dc6174         0           0  \n",
       "fffff031760c3f5         0           0  \n",
       "\n",
       "[341568 rows x 7 columns]"
      ]
     },
     "execution_count": 832,
     "metadata": {},
     "output_type": "execute_result"
    }
   ],
   "source": [
    "train = user_to_activity.sample(frac = 0.7)\n",
    "test = user_to_activity.loc[~user_to_activity.index.isin(train_df.index)]\n",
    "user_to_activity"
   ]
  },
  {
   "cell_type": "code",
   "execution_count": 833,
   "metadata": {},
   "outputs": [],
   "source": [
    "train = train.to_numpy()\n",
    "test = test.to_numpy()\n",
    "\n",
    "X_train = train[:,:-2]\n",
    "Y_train = train[:,-1]\n",
    "\n",
    "X_test = test[:,:-2]\n",
    "Y_test = test[:,-1]"
   ]
  },
  {
   "cell_type": "code",
   "execution_count": 834,
   "metadata": {},
   "outputs": [],
   "source": [
    "\n",
    "forest = RandomForestClassifier(n_estimators = 100)\n",
    "forest = forest.fit(X_train, Y_train)"
   ]
  },
  {
   "cell_type": "code",
   "execution_count": 835,
   "metadata": {},
   "outputs": [],
   "source": [
    "rf_predicted = forest.predict(X_test)"
   ]
  },
  {
   "cell_type": "code",
   "execution_count": 836,
   "metadata": {},
   "outputs": [
    {
     "data": {
      "text/plain": [
       "(102470,)"
      ]
     },
     "execution_count": 836,
     "metadata": {},
     "output_type": "execute_result"
    }
   ],
   "source": [
    "rf_predicted.shape"
   ]
  },
  {
   "cell_type": "code",
   "execution_count": 837,
   "metadata": {},
   "outputs": [
    {
     "name": "stdout",
     "output_type": "stream",
     "text": [
      "              precision    recall  f1-score   support\n",
      "\n",
      "           0       0.89      0.99      0.94     71193\n",
      "           1       0.96      0.72      0.82     31277\n",
      "\n",
      "    accuracy                           0.91    102470\n",
      "   macro avg       0.93      0.85      0.88    102470\n",
      "weighted avg       0.91      0.91      0.90    102470\n",
      "\n"
     ]
    }
   ],
   "source": [
    "print(metrics.classification_report(Y_test, rf_predicted))"
   ]
  },
  {
   "cell_type": "code",
   "execution_count": 838,
   "metadata": {},
   "outputs": [],
   "source": [
    "feature_importance = forest.feature_importances_"
   ]
  },
  {
   "cell_type": "code",
   "execution_count": 839,
   "metadata": {},
   "outputs": [
    {
     "data": {
      "text/plain": [
       "array([0.6658364 , 0.0856997 , 0.17973253, 0.03433549, 0.03439587])"
      ]
     },
     "execution_count": 839,
     "metadata": {},
     "output_type": "execute_result"
    }
   ],
   "source": [
    "feature_importance"
   ]
  },
  {
   "cell_type": "code",
   "execution_count": 840,
   "metadata": {},
   "outputs": [],
   "source": [
    "std = np.std([tree.feature_importances_ for tree in forest.estimators_],\n",
    "             axis=0)\n",
    "indices = np.argsort(feature_importance)[::-1]"
   ]
  },
  {
   "cell_type": "code",
   "execution_count": 884,
   "metadata": {},
   "outputs": [
    {
     "name": "stdout",
     "output_type": "stream",
     "text": [
      "Feature ranking:\n",
      "1. EmailOpen = 0.67\n",
      "2. EmailClickthrough = 0.18\n",
      "3. FormSubmit = 0.09\n",
      "4. WebVisit = 0.03\n",
      "5. PageView = 0.03\n"
     ]
    }
   ],
   "source": [
    "print(\"Feature ranking:\")\n",
    "features = ['EmailOpen','EmailClickthrough', 'FormSubmit', 'WebVisit', 'PageView']\n",
    "for f in range(X_train.shape[1]):\n",
    "#     print(\"%d. feature {} (%f)\" % (f + 1 , features[f], feature_importance[indices[f]]))\n",
    "    print(\"{0}. {1} = {2}\".format(f  + 1, features[f], round(feature_importance[indices[f]], 2)))"
   ]
  },
  {
   "cell_type": "code",
   "execution_count": 842,
   "metadata": {},
   "outputs": [],
   "source": [
    "df_test = pd.read_csv(\"C:/Users/rashm/Desktop/6Sense/6sense_DS_TakeHome_Challenge/2021_6sense_DS_Takehome_Challenge/test.tsv\", sep = '\\t', header = None)"
   ]
  },
  {
   "cell_type": "code",
   "execution_count": 843,
   "metadata": {},
   "outputs": [
    {
     "data": {
      "text/html": [
       "<div>\n",
       "<style scoped>\n",
       "    .dataframe tbody tr th:only-of-type {\n",
       "        vertical-align: middle;\n",
       "    }\n",
       "\n",
       "    .dataframe tbody tr th {\n",
       "        vertical-align: top;\n",
       "    }\n",
       "\n",
       "    .dataframe thead th {\n",
       "        text-align: right;\n",
       "    }\n",
       "</style>\n",
       "<table border=\"1\" class=\"dataframe\">\n",
       "  <thead>\n",
       "    <tr style=\"text-align: right;\">\n",
       "      <th></th>\n",
       "      <th>0</th>\n",
       "      <th>1</th>\n",
       "      <th>2</th>\n",
       "    </tr>\n",
       "  </thead>\n",
       "  <tbody>\n",
       "    <tr>\n",
       "      <th>0</th>\n",
       "      <td>0000ecf58c94668</td>\n",
       "      <td>2015-05-20</td>\n",
       "      <td>EmailOpen</td>\n",
       "    </tr>\n",
       "    <tr>\n",
       "      <th>1</th>\n",
       "      <td>0000ecf58c94668</td>\n",
       "      <td>2015-06-11</td>\n",
       "      <td>EmailOpen</td>\n",
       "    </tr>\n",
       "    <tr>\n",
       "      <th>2</th>\n",
       "      <td>0000ecf58c94668</td>\n",
       "      <td>2015-06-29</td>\n",
       "      <td>EmailOpen</td>\n",
       "    </tr>\n",
       "    <tr>\n",
       "      <th>3</th>\n",
       "      <td>0000ecf58c94668</td>\n",
       "      <td>2015-07-05</td>\n",
       "      <td>EmailOpen</td>\n",
       "    </tr>\n",
       "    <tr>\n",
       "      <th>4</th>\n",
       "      <td>0000ecf58c94668</td>\n",
       "      <td>2015-07-29</td>\n",
       "      <td>EmailOpen</td>\n",
       "    </tr>\n",
       "    <tr>\n",
       "      <th>5</th>\n",
       "      <td>000132f21724ee2</td>\n",
       "      <td>2015-05-15</td>\n",
       "      <td>EmailClickthrough</td>\n",
       "    </tr>\n",
       "    <tr>\n",
       "      <th>6</th>\n",
       "      <td>000132f21724ee2</td>\n",
       "      <td>2015-05-15</td>\n",
       "      <td>EmailOpen</td>\n",
       "    </tr>\n",
       "    <tr>\n",
       "      <th>7</th>\n",
       "      <td>0001b315b991cf0</td>\n",
       "      <td>2015-05-06</td>\n",
       "      <td>EmailOpen</td>\n",
       "    </tr>\n",
       "    <tr>\n",
       "      <th>8</th>\n",
       "      <td>0001b315b991cf0</td>\n",
       "      <td>2015-06-29</td>\n",
       "      <td>EmailOpen</td>\n",
       "    </tr>\n",
       "    <tr>\n",
       "      <th>9</th>\n",
       "      <td>0001b315b991cf0</td>\n",
       "      <td>2015-06-30</td>\n",
       "      <td>EmailOpen</td>\n",
       "    </tr>\n",
       "  </tbody>\n",
       "</table>\n",
       "</div>"
      ],
      "text/plain": [
       "                 0           1                  2\n",
       "0  0000ecf58c94668  2015-05-20          EmailOpen\n",
       "1  0000ecf58c94668  2015-06-11          EmailOpen\n",
       "2  0000ecf58c94668  2015-06-29          EmailOpen\n",
       "3  0000ecf58c94668  2015-07-05          EmailOpen\n",
       "4  0000ecf58c94668  2015-07-29          EmailOpen\n",
       "5  000132f21724ee2  2015-05-15  EmailClickthrough\n",
       "6  000132f21724ee2  2015-05-15          EmailOpen\n",
       "7  0001b315b991cf0  2015-05-06          EmailOpen\n",
       "8  0001b315b991cf0  2015-06-29          EmailOpen\n",
       "9  0001b315b991cf0  2015-06-30          EmailOpen"
      ]
     },
     "execution_count": 843,
     "metadata": {},
     "output_type": "execute_result"
    }
   ],
   "source": [
    "df_test.head(10)"
   ]
  },
  {
   "cell_type": "code",
   "execution_count": 844,
   "metadata": {},
   "outputs": [],
   "source": [
    "df_test.columns = ['User_ID','Activity_Date','Activity_Type']"
   ]
  },
  {
   "cell_type": "code",
   "execution_count": 845,
   "metadata": {},
   "outputs": [],
   "source": [
    "df_test.sort_values(by=\"Activity_Date\",ascending=True, inplace=True)"
   ]
  },
  {
   "cell_type": "code",
   "execution_count": 846,
   "metadata": {},
   "outputs": [
    {
     "data": {
      "text/html": [
       "<div>\n",
       "<style scoped>\n",
       "    .dataframe tbody tr th:only-of-type {\n",
       "        vertical-align: middle;\n",
       "    }\n",
       "\n",
       "    .dataframe tbody tr th {\n",
       "        vertical-align: top;\n",
       "    }\n",
       "\n",
       "    .dataframe thead th {\n",
       "        text-align: right;\n",
       "    }\n",
       "</style>\n",
       "<table border=\"1\" class=\"dataframe\">\n",
       "  <thead>\n",
       "    <tr style=\"text-align: right;\">\n",
       "      <th></th>\n",
       "      <th>User_ID</th>\n",
       "      <th>Activity_Date</th>\n",
       "      <th>Activity_Type</th>\n",
       "    </tr>\n",
       "  </thead>\n",
       "  <tbody>\n",
       "    <tr>\n",
       "      <th>687866</th>\n",
       "      <td>d419eae525d4301</td>\n",
       "      <td>2015-05-01</td>\n",
       "      <td>EmailOpen</td>\n",
       "    </tr>\n",
       "    <tr>\n",
       "      <th>339539</th>\n",
       "      <td>5d7c05e8f37b353</td>\n",
       "      <td>2015-05-01</td>\n",
       "      <td>EmailOpen</td>\n",
       "    </tr>\n",
       "    <tr>\n",
       "      <th>608390</th>\n",
       "      <td>b6de84cb47e7826</td>\n",
       "      <td>2015-05-01</td>\n",
       "      <td>EmailOpen</td>\n",
       "    </tr>\n",
       "    <tr>\n",
       "      <th>226398</th>\n",
       "      <td>3c2f9fd36293bc7</td>\n",
       "      <td>2015-05-01</td>\n",
       "      <td>WebVisit</td>\n",
       "    </tr>\n",
       "    <tr>\n",
       "      <th>226397</th>\n",
       "      <td>3c2f9fd36293bc7</td>\n",
       "      <td>2015-05-01</td>\n",
       "      <td>PageView</td>\n",
       "    </tr>\n",
       "    <tr>\n",
       "      <th>...</th>\n",
       "      <td>...</td>\n",
       "      <td>...</td>\n",
       "      <td>...</td>\n",
       "    </tr>\n",
       "    <tr>\n",
       "      <th>296590</th>\n",
       "      <td>50c39c3bfaf98a5</td>\n",
       "      <td>2015-07-31</td>\n",
       "      <td>EmailOpen</td>\n",
       "    </tr>\n",
       "    <tr>\n",
       "      <th>296637</th>\n",
       "      <td>50c6ac0d3256c47</td>\n",
       "      <td>2015-07-31</td>\n",
       "      <td>EmailOpen</td>\n",
       "    </tr>\n",
       "    <tr>\n",
       "      <th>57088</th>\n",
       "      <td>0dedb7bfe7e2c52</td>\n",
       "      <td>2015-07-31</td>\n",
       "      <td>FormSubmit</td>\n",
       "    </tr>\n",
       "    <tr>\n",
       "      <th>57090</th>\n",
       "      <td>0dedb7bfe7e2c52</td>\n",
       "      <td>2015-07-31</td>\n",
       "      <td>WebVisit</td>\n",
       "    </tr>\n",
       "    <tr>\n",
       "      <th>284129</th>\n",
       "      <td>4d0ff733fb5c66b</td>\n",
       "      <td>2015-07-31</td>\n",
       "      <td>EmailOpen</td>\n",
       "    </tr>\n",
       "  </tbody>\n",
       "</table>\n",
       "<p>797759 rows × 3 columns</p>\n",
       "</div>"
      ],
      "text/plain": [
       "                User_ID Activity_Date Activity_Type\n",
       "687866  d419eae525d4301    2015-05-01     EmailOpen\n",
       "339539  5d7c05e8f37b353    2015-05-01     EmailOpen\n",
       "608390  b6de84cb47e7826    2015-05-01     EmailOpen\n",
       "226398  3c2f9fd36293bc7    2015-05-01      WebVisit\n",
       "226397  3c2f9fd36293bc7    2015-05-01      PageView\n",
       "...                 ...           ...           ...\n",
       "296590  50c39c3bfaf98a5    2015-07-31     EmailOpen\n",
       "296637  50c6ac0d3256c47    2015-07-31     EmailOpen\n",
       "57088   0dedb7bfe7e2c52    2015-07-31    FormSubmit\n",
       "57090   0dedb7bfe7e2c52    2015-07-31      WebVisit\n",
       "284129  4d0ff733fb5c66b    2015-07-31     EmailOpen\n",
       "\n",
       "[797759 rows x 3 columns]"
      ]
     },
     "execution_count": 846,
     "metadata": {},
     "output_type": "execute_result"
    }
   ],
   "source": [
    "df_test"
   ]
  },
  {
   "cell_type": "code",
   "execution_count": 847,
   "metadata": {},
   "outputs": [
    {
     "data": {
      "text/plain": [
       "array(['EmailOpen', 'WebVisit', 'PageView', 'EmailClickthrough',\n",
       "       'FormSubmit'], dtype=object)"
      ]
     },
     "execution_count": 847,
     "metadata": {},
     "output_type": "execute_result"
    }
   ],
   "source": [
    "test_activities = df_test[\"Activity_Type\"].unique()\n",
    "test_activities"
   ]
  },
  {
   "cell_type": "code",
   "execution_count": 848,
   "metadata": {},
   "outputs": [],
   "source": [
    "activity_steps_test = ['EmailOpen', 'WebVisit', 'PageView', 'EmailClickthrough', 'FormSubmit']"
   ]
  },
  {
   "cell_type": "code",
   "execution_count": 755,
   "metadata": {},
   "outputs": [],
   "source": [
    "grouped_test = df_test.groupby(\"User_ID\").apply(funnelize, activity_steps_test)"
   ]
  },
  {
   "cell_type": "code",
   "execution_count": 849,
   "metadata": {},
   "outputs": [],
   "source": [
    "user_to_activity_test = pd.DataFrame(list(grouped_test.values),index = grouped_test.index,columns = activity_steps_test)"
   ]
  },
  {
   "cell_type": "code",
   "execution_count": 850,
   "metadata": {},
   "outputs": [
    {
     "data": {
      "text/html": [
       "<div>\n",
       "<style scoped>\n",
       "    .dataframe tbody tr th:only-of-type {\n",
       "        vertical-align: middle;\n",
       "    }\n",
       "\n",
       "    .dataframe tbody tr th {\n",
       "        vertical-align: top;\n",
       "    }\n",
       "\n",
       "    .dataframe thead th {\n",
       "        text-align: right;\n",
       "    }\n",
       "</style>\n",
       "<table border=\"1\" class=\"dataframe\">\n",
       "  <thead>\n",
       "    <tr style=\"text-align: right;\">\n",
       "      <th></th>\n",
       "      <th>EmailOpen</th>\n",
       "      <th>WebVisit</th>\n",
       "      <th>PageView</th>\n",
       "      <th>EmailClickthrough</th>\n",
       "      <th>FormSubmit</th>\n",
       "    </tr>\n",
       "    <tr>\n",
       "      <th>User_ID</th>\n",
       "      <th></th>\n",
       "      <th></th>\n",
       "      <th></th>\n",
       "      <th></th>\n",
       "      <th></th>\n",
       "    </tr>\n",
       "  </thead>\n",
       "  <tbody>\n",
       "    <tr>\n",
       "      <th>0000ecf58c94668</th>\n",
       "      <td>5</td>\n",
       "      <td>0</td>\n",
       "      <td>0</td>\n",
       "      <td>0</td>\n",
       "      <td>0</td>\n",
       "    </tr>\n",
       "    <tr>\n",
       "      <th>000132f21724ee2</th>\n",
       "      <td>1</td>\n",
       "      <td>0</td>\n",
       "      <td>0</td>\n",
       "      <td>1</td>\n",
       "      <td>0</td>\n",
       "    </tr>\n",
       "    <tr>\n",
       "      <th>0001b315b991cf0</th>\n",
       "      <td>3</td>\n",
       "      <td>0</td>\n",
       "      <td>0</td>\n",
       "      <td>0</td>\n",
       "      <td>0</td>\n",
       "    </tr>\n",
       "    <tr>\n",
       "      <th>000269150971d08</th>\n",
       "      <td>4</td>\n",
       "      <td>0</td>\n",
       "      <td>0</td>\n",
       "      <td>0</td>\n",
       "      <td>0</td>\n",
       "    </tr>\n",
       "    <tr>\n",
       "      <th>000297ba4fa5026</th>\n",
       "      <td>3</td>\n",
       "      <td>0</td>\n",
       "      <td>0</td>\n",
       "      <td>0</td>\n",
       "      <td>0</td>\n",
       "    </tr>\n",
       "    <tr>\n",
       "      <th>...</th>\n",
       "      <td>...</td>\n",
       "      <td>...</td>\n",
       "      <td>...</td>\n",
       "      <td>...</td>\n",
       "      <td>...</td>\n",
       "    </tr>\n",
       "    <tr>\n",
       "      <th>fffc7f2ad169c6b</th>\n",
       "      <td>1</td>\n",
       "      <td>0</td>\n",
       "      <td>0</td>\n",
       "      <td>0</td>\n",
       "      <td>0</td>\n",
       "    </tr>\n",
       "    <tr>\n",
       "      <th>fffd77a0266d37c</th>\n",
       "      <td>3</td>\n",
       "      <td>1</td>\n",
       "      <td>1</td>\n",
       "      <td>0</td>\n",
       "      <td>1</td>\n",
       "    </tr>\n",
       "    <tr>\n",
       "      <th>fffed482b52afd8</th>\n",
       "      <td>1</td>\n",
       "      <td>0</td>\n",
       "      <td>0</td>\n",
       "      <td>0</td>\n",
       "      <td>0</td>\n",
       "    </tr>\n",
       "    <tr>\n",
       "      <th>ffffa4cc0190881</th>\n",
       "      <td>1</td>\n",
       "      <td>0</td>\n",
       "      <td>0</td>\n",
       "      <td>0</td>\n",
       "      <td>0</td>\n",
       "    </tr>\n",
       "    <tr>\n",
       "      <th>ffffecdd8dc6174</th>\n",
       "      <td>5</td>\n",
       "      <td>0</td>\n",
       "      <td>0</td>\n",
       "      <td>0</td>\n",
       "      <td>0</td>\n",
       "    </tr>\n",
       "  </tbody>\n",
       "</table>\n",
       "<p>132810 rows × 5 columns</p>\n",
       "</div>"
      ],
      "text/plain": [
       "                 EmailOpen  WebVisit  PageView  EmailClickthrough  FormSubmit\n",
       "User_ID                                                                      \n",
       "0000ecf58c94668          5         0         0                  0           0\n",
       "000132f21724ee2          1         0         0                  1           0\n",
       "0001b315b991cf0          3         0         0                  0           0\n",
       "000269150971d08          4         0         0                  0           0\n",
       "000297ba4fa5026          3         0         0                  0           0\n",
       "...                    ...       ...       ...                ...         ...\n",
       "fffc7f2ad169c6b          1         0         0                  0           0\n",
       "fffd77a0266d37c          3         1         1                  0           1\n",
       "fffed482b52afd8          1         0         0                  0           0\n",
       "ffffa4cc0190881          1         0         0                  0           0\n",
       "ffffecdd8dc6174          5         0         0                  0           0\n",
       "\n",
       "[132810 rows x 5 columns]"
      ]
     },
     "execution_count": 850,
     "metadata": {},
     "output_type": "execute_result"
    }
   ],
   "source": [
    "user_to_activity_test"
   ]
  },
  {
   "cell_type": "code",
   "execution_count": 851,
   "metadata": {},
   "outputs": [],
   "source": [
    "# user_to_activity_test = user_to_activity_test.drop('WebVisit', axis = 1)"
   ]
  },
  {
   "cell_type": "code",
   "execution_count": 852,
   "metadata": {},
   "outputs": [],
   "source": [
    "user_to_activity_test_arr = user_to_activity_test.to_numpy()"
   ]
  },
  {
   "cell_type": "code",
   "execution_count": 853,
   "metadata": {},
   "outputs": [
    {
     "data": {
      "text/plain": [
       "(132810, 5)"
      ]
     },
     "execution_count": 853,
     "metadata": {},
     "output_type": "execute_result"
    }
   ],
   "source": [
    "user_to_activity_test_arr.shape"
   ]
  },
  {
   "cell_type": "code",
   "execution_count": 854,
   "metadata": {},
   "outputs": [],
   "source": [
    "predicted_test = forest.predict(user_to_activity_test_arr)"
   ]
  },
  {
   "cell_type": "code",
   "execution_count": 855,
   "metadata": {},
   "outputs": [],
   "source": [
    "output = forest.predict_proba(user_to_activity_test_arr)"
   ]
  },
  {
   "cell_type": "code",
   "execution_count": 856,
   "metadata": {},
   "outputs": [],
   "source": [
    "output = pd.DataFrame(output)"
   ]
  },
  {
   "cell_type": "code",
   "execution_count": 857,
   "metadata": {},
   "outputs": [
    {
     "data": {
      "text/html": [
       "<div>\n",
       "<style scoped>\n",
       "    .dataframe tbody tr th:only-of-type {\n",
       "        vertical-align: middle;\n",
       "    }\n",
       "\n",
       "    .dataframe tbody tr th {\n",
       "        vertical-align: top;\n",
       "    }\n",
       "\n",
       "    .dataframe thead th {\n",
       "        text-align: right;\n",
       "    }\n",
       "</style>\n",
       "<table border=\"1\" class=\"dataframe\">\n",
       "  <thead>\n",
       "    <tr style=\"text-align: right;\">\n",
       "      <th></th>\n",
       "      <th>0</th>\n",
       "      <th>1</th>\n",
       "    </tr>\n",
       "  </thead>\n",
       "  <tbody>\n",
       "    <tr>\n",
       "      <th>0</th>\n",
       "      <td>0.904387</td>\n",
       "      <td>0.095613</td>\n",
       "    </tr>\n",
       "    <tr>\n",
       "      <th>1</th>\n",
       "      <td>0.932466</td>\n",
       "      <td>0.067534</td>\n",
       "    </tr>\n",
       "    <tr>\n",
       "      <th>2</th>\n",
       "      <td>0.916694</td>\n",
       "      <td>0.083306</td>\n",
       "    </tr>\n",
       "    <tr>\n",
       "      <th>3</th>\n",
       "      <td>0.913956</td>\n",
       "      <td>0.086044</td>\n",
       "    </tr>\n",
       "    <tr>\n",
       "      <th>4</th>\n",
       "      <td>0.916694</td>\n",
       "      <td>0.083306</td>\n",
       "    </tr>\n",
       "    <tr>\n",
       "      <th>...</th>\n",
       "      <td>...</td>\n",
       "      <td>...</td>\n",
       "    </tr>\n",
       "    <tr>\n",
       "      <th>132805</th>\n",
       "      <td>0.940409</td>\n",
       "      <td>0.059591</td>\n",
       "    </tr>\n",
       "    <tr>\n",
       "      <th>132806</th>\n",
       "      <td>0.899152</td>\n",
       "      <td>0.100848</td>\n",
       "    </tr>\n",
       "    <tr>\n",
       "      <th>132807</th>\n",
       "      <td>0.940409</td>\n",
       "      <td>0.059591</td>\n",
       "    </tr>\n",
       "    <tr>\n",
       "      <th>132808</th>\n",
       "      <td>0.940409</td>\n",
       "      <td>0.059591</td>\n",
       "    </tr>\n",
       "    <tr>\n",
       "      <th>132809</th>\n",
       "      <td>0.904387</td>\n",
       "      <td>0.095613</td>\n",
       "    </tr>\n",
       "  </tbody>\n",
       "</table>\n",
       "<p>132810 rows × 2 columns</p>\n",
       "</div>"
      ],
      "text/plain": [
       "               0         1\n",
       "0       0.904387  0.095613\n",
       "1       0.932466  0.067534\n",
       "2       0.916694  0.083306\n",
       "3       0.913956  0.086044\n",
       "4       0.916694  0.083306\n",
       "...          ...       ...\n",
       "132805  0.940409  0.059591\n",
       "132806  0.899152  0.100848\n",
       "132807  0.940409  0.059591\n",
       "132808  0.940409  0.059591\n",
       "132809  0.904387  0.095613\n",
       "\n",
       "[132810 rows x 2 columns]"
      ]
     },
     "execution_count": 857,
     "metadata": {},
     "output_type": "execute_result"
    }
   ],
   "source": [
    "output"
   ]
  },
  {
   "cell_type": "code",
   "execution_count": 858,
   "metadata": {},
   "outputs": [],
   "source": [
    "user_to_activity_test['User_ID'] = user_to_activity_test.index"
   ]
  },
  {
   "cell_type": "code",
   "execution_count": 859,
   "metadata": {},
   "outputs": [],
   "source": [
    "user_to_activity_test.index = range(132810)\n",
    "output.index = range(132810)\n"
   ]
  },
  {
   "cell_type": "code",
   "execution_count": 860,
   "metadata": {},
   "outputs": [],
   "source": [
    "output_with_activities = pd.concat([user_to_activity_test, output], axis = 1)"
   ]
  },
  {
   "cell_type": "code",
   "execution_count": 861,
   "metadata": {},
   "outputs": [
    {
     "data": {
      "text/html": [
       "<div>\n",
       "<style scoped>\n",
       "    .dataframe tbody tr th:only-of-type {\n",
       "        vertical-align: middle;\n",
       "    }\n",
       "\n",
       "    .dataframe tbody tr th {\n",
       "        vertical-align: top;\n",
       "    }\n",
       "\n",
       "    .dataframe thead th {\n",
       "        text-align: right;\n",
       "    }\n",
       "</style>\n",
       "<table border=\"1\" class=\"dataframe\">\n",
       "  <thead>\n",
       "    <tr style=\"text-align: right;\">\n",
       "      <th></th>\n",
       "      <th>EmailOpen</th>\n",
       "      <th>WebVisit</th>\n",
       "      <th>PageView</th>\n",
       "      <th>EmailClickthrough</th>\n",
       "      <th>FormSubmit</th>\n",
       "      <th>User_ID</th>\n",
       "      <th>0</th>\n",
       "      <th>1</th>\n",
       "    </tr>\n",
       "  </thead>\n",
       "  <tbody>\n",
       "    <tr>\n",
       "      <th>0</th>\n",
       "      <td>5</td>\n",
       "      <td>0</td>\n",
       "      <td>0</td>\n",
       "      <td>0</td>\n",
       "      <td>0</td>\n",
       "      <td>0000ecf58c94668</td>\n",
       "      <td>0.904387</td>\n",
       "      <td>0.095613</td>\n",
       "    </tr>\n",
       "    <tr>\n",
       "      <th>1</th>\n",
       "      <td>1</td>\n",
       "      <td>0</td>\n",
       "      <td>0</td>\n",
       "      <td>1</td>\n",
       "      <td>0</td>\n",
       "      <td>000132f21724ee2</td>\n",
       "      <td>0.932466</td>\n",
       "      <td>0.067534</td>\n",
       "    </tr>\n",
       "    <tr>\n",
       "      <th>2</th>\n",
       "      <td>3</td>\n",
       "      <td>0</td>\n",
       "      <td>0</td>\n",
       "      <td>0</td>\n",
       "      <td>0</td>\n",
       "      <td>0001b315b991cf0</td>\n",
       "      <td>0.916694</td>\n",
       "      <td>0.083306</td>\n",
       "    </tr>\n",
       "    <tr>\n",
       "      <th>3</th>\n",
       "      <td>4</td>\n",
       "      <td>0</td>\n",
       "      <td>0</td>\n",
       "      <td>0</td>\n",
       "      <td>0</td>\n",
       "      <td>000269150971d08</td>\n",
       "      <td>0.913956</td>\n",
       "      <td>0.086044</td>\n",
       "    </tr>\n",
       "    <tr>\n",
       "      <th>4</th>\n",
       "      <td>3</td>\n",
       "      <td>0</td>\n",
       "      <td>0</td>\n",
       "      <td>0</td>\n",
       "      <td>0</td>\n",
       "      <td>000297ba4fa5026</td>\n",
       "      <td>0.916694</td>\n",
       "      <td>0.083306</td>\n",
       "    </tr>\n",
       "    <tr>\n",
       "      <th>...</th>\n",
       "      <td>...</td>\n",
       "      <td>...</td>\n",
       "      <td>...</td>\n",
       "      <td>...</td>\n",
       "      <td>...</td>\n",
       "      <td>...</td>\n",
       "      <td>...</td>\n",
       "      <td>...</td>\n",
       "    </tr>\n",
       "    <tr>\n",
       "      <th>132805</th>\n",
       "      <td>1</td>\n",
       "      <td>0</td>\n",
       "      <td>0</td>\n",
       "      <td>0</td>\n",
       "      <td>0</td>\n",
       "      <td>fffc7f2ad169c6b</td>\n",
       "      <td>0.940409</td>\n",
       "      <td>0.059591</td>\n",
       "    </tr>\n",
       "    <tr>\n",
       "      <th>132806</th>\n",
       "      <td>3</td>\n",
       "      <td>1</td>\n",
       "      <td>1</td>\n",
       "      <td>0</td>\n",
       "      <td>1</td>\n",
       "      <td>fffd77a0266d37c</td>\n",
       "      <td>0.899152</td>\n",
       "      <td>0.100848</td>\n",
       "    </tr>\n",
       "    <tr>\n",
       "      <th>132807</th>\n",
       "      <td>1</td>\n",
       "      <td>0</td>\n",
       "      <td>0</td>\n",
       "      <td>0</td>\n",
       "      <td>0</td>\n",
       "      <td>fffed482b52afd8</td>\n",
       "      <td>0.940409</td>\n",
       "      <td>0.059591</td>\n",
       "    </tr>\n",
       "    <tr>\n",
       "      <th>132808</th>\n",
       "      <td>1</td>\n",
       "      <td>0</td>\n",
       "      <td>0</td>\n",
       "      <td>0</td>\n",
       "      <td>0</td>\n",
       "      <td>ffffa4cc0190881</td>\n",
       "      <td>0.940409</td>\n",
       "      <td>0.059591</td>\n",
       "    </tr>\n",
       "    <tr>\n",
       "      <th>132809</th>\n",
       "      <td>5</td>\n",
       "      <td>0</td>\n",
       "      <td>0</td>\n",
       "      <td>0</td>\n",
       "      <td>0</td>\n",
       "      <td>ffffecdd8dc6174</td>\n",
       "      <td>0.904387</td>\n",
       "      <td>0.095613</td>\n",
       "    </tr>\n",
       "  </tbody>\n",
       "</table>\n",
       "<p>132810 rows × 8 columns</p>\n",
       "</div>"
      ],
      "text/plain": [
       "        EmailOpen  WebVisit  PageView  EmailClickthrough  FormSubmit  \\\n",
       "0               5         0         0                  0           0   \n",
       "1               1         0         0                  1           0   \n",
       "2               3         0         0                  0           0   \n",
       "3               4         0         0                  0           0   \n",
       "4               3         0         0                  0           0   \n",
       "...           ...       ...       ...                ...         ...   \n",
       "132805          1         0         0                  0           0   \n",
       "132806          3         1         1                  0           1   \n",
       "132807          1         0         0                  0           0   \n",
       "132808          1         0         0                  0           0   \n",
       "132809          5         0         0                  0           0   \n",
       "\n",
       "                User_ID         0         1  \n",
       "0       0000ecf58c94668  0.904387  0.095613  \n",
       "1       000132f21724ee2  0.932466  0.067534  \n",
       "2       0001b315b991cf0  0.916694  0.083306  \n",
       "3       000269150971d08  0.913956  0.086044  \n",
       "4       000297ba4fa5026  0.916694  0.083306  \n",
       "...                 ...       ...       ...  \n",
       "132805  fffc7f2ad169c6b  0.940409  0.059591  \n",
       "132806  fffd77a0266d37c  0.899152  0.100848  \n",
       "132807  fffed482b52afd8  0.940409  0.059591  \n",
       "132808  ffffa4cc0190881  0.940409  0.059591  \n",
       "132809  ffffecdd8dc6174  0.904387  0.095613  \n",
       "\n",
       "[132810 rows x 8 columns]"
      ]
     },
     "execution_count": 861,
     "metadata": {},
     "output_type": "execute_result"
    }
   ],
   "source": [
    "output_with_activities"
   ]
  },
  {
   "cell_type": "code",
   "execution_count": 862,
   "metadata": {},
   "outputs": [],
   "source": [
    "output_with_activities.columns = ['EmailOpen','WebVisit','PageView','EmailClickthrough', 'FormSubmit', 'User_ID', 'noPurchase','willPurchase']"
   ]
  },
  {
   "cell_type": "code",
   "execution_count": 863,
   "metadata": {},
   "outputs": [
    {
     "data": {
      "text/html": [
       "<div>\n",
       "<style scoped>\n",
       "    .dataframe tbody tr th:only-of-type {\n",
       "        vertical-align: middle;\n",
       "    }\n",
       "\n",
       "    .dataframe tbody tr th {\n",
       "        vertical-align: top;\n",
       "    }\n",
       "\n",
       "    .dataframe thead th {\n",
       "        text-align: right;\n",
       "    }\n",
       "</style>\n",
       "<table border=\"1\" class=\"dataframe\">\n",
       "  <thead>\n",
       "    <tr style=\"text-align: right;\">\n",
       "      <th></th>\n",
       "      <th>EmailOpen</th>\n",
       "      <th>WebVisit</th>\n",
       "      <th>PageView</th>\n",
       "      <th>EmailClickthrough</th>\n",
       "      <th>FormSubmit</th>\n",
       "      <th>User_ID</th>\n",
       "      <th>noPurchase</th>\n",
       "      <th>willPurchase</th>\n",
       "    </tr>\n",
       "  </thead>\n",
       "  <tbody>\n",
       "    <tr>\n",
       "      <th>0</th>\n",
       "      <td>5</td>\n",
       "      <td>0</td>\n",
       "      <td>0</td>\n",
       "      <td>0</td>\n",
       "      <td>0</td>\n",
       "      <td>0000ecf58c94668</td>\n",
       "      <td>0.904387</td>\n",
       "      <td>0.095613</td>\n",
       "    </tr>\n",
       "    <tr>\n",
       "      <th>1</th>\n",
       "      <td>1</td>\n",
       "      <td>0</td>\n",
       "      <td>0</td>\n",
       "      <td>1</td>\n",
       "      <td>0</td>\n",
       "      <td>000132f21724ee2</td>\n",
       "      <td>0.932466</td>\n",
       "      <td>0.067534</td>\n",
       "    </tr>\n",
       "    <tr>\n",
       "      <th>2</th>\n",
       "      <td>3</td>\n",
       "      <td>0</td>\n",
       "      <td>0</td>\n",
       "      <td>0</td>\n",
       "      <td>0</td>\n",
       "      <td>0001b315b991cf0</td>\n",
       "      <td>0.916694</td>\n",
       "      <td>0.083306</td>\n",
       "    </tr>\n",
       "    <tr>\n",
       "      <th>3</th>\n",
       "      <td>4</td>\n",
       "      <td>0</td>\n",
       "      <td>0</td>\n",
       "      <td>0</td>\n",
       "      <td>0</td>\n",
       "      <td>000269150971d08</td>\n",
       "      <td>0.913956</td>\n",
       "      <td>0.086044</td>\n",
       "    </tr>\n",
       "    <tr>\n",
       "      <th>4</th>\n",
       "      <td>3</td>\n",
       "      <td>0</td>\n",
       "      <td>0</td>\n",
       "      <td>0</td>\n",
       "      <td>0</td>\n",
       "      <td>000297ba4fa5026</td>\n",
       "      <td>0.916694</td>\n",
       "      <td>0.083306</td>\n",
       "    </tr>\n",
       "    <tr>\n",
       "      <th>...</th>\n",
       "      <td>...</td>\n",
       "      <td>...</td>\n",
       "      <td>...</td>\n",
       "      <td>...</td>\n",
       "      <td>...</td>\n",
       "      <td>...</td>\n",
       "      <td>...</td>\n",
       "      <td>...</td>\n",
       "    </tr>\n",
       "    <tr>\n",
       "      <th>132805</th>\n",
       "      <td>1</td>\n",
       "      <td>0</td>\n",
       "      <td>0</td>\n",
       "      <td>0</td>\n",
       "      <td>0</td>\n",
       "      <td>fffc7f2ad169c6b</td>\n",
       "      <td>0.940409</td>\n",
       "      <td>0.059591</td>\n",
       "    </tr>\n",
       "    <tr>\n",
       "      <th>132806</th>\n",
       "      <td>3</td>\n",
       "      <td>1</td>\n",
       "      <td>1</td>\n",
       "      <td>0</td>\n",
       "      <td>1</td>\n",
       "      <td>fffd77a0266d37c</td>\n",
       "      <td>0.899152</td>\n",
       "      <td>0.100848</td>\n",
       "    </tr>\n",
       "    <tr>\n",
       "      <th>132807</th>\n",
       "      <td>1</td>\n",
       "      <td>0</td>\n",
       "      <td>0</td>\n",
       "      <td>0</td>\n",
       "      <td>0</td>\n",
       "      <td>fffed482b52afd8</td>\n",
       "      <td>0.940409</td>\n",
       "      <td>0.059591</td>\n",
       "    </tr>\n",
       "    <tr>\n",
       "      <th>132808</th>\n",
       "      <td>1</td>\n",
       "      <td>0</td>\n",
       "      <td>0</td>\n",
       "      <td>0</td>\n",
       "      <td>0</td>\n",
       "      <td>ffffa4cc0190881</td>\n",
       "      <td>0.940409</td>\n",
       "      <td>0.059591</td>\n",
       "    </tr>\n",
       "    <tr>\n",
       "      <th>132809</th>\n",
       "      <td>5</td>\n",
       "      <td>0</td>\n",
       "      <td>0</td>\n",
       "      <td>0</td>\n",
       "      <td>0</td>\n",
       "      <td>ffffecdd8dc6174</td>\n",
       "      <td>0.904387</td>\n",
       "      <td>0.095613</td>\n",
       "    </tr>\n",
       "  </tbody>\n",
       "</table>\n",
       "<p>132810 rows × 8 columns</p>\n",
       "</div>"
      ],
      "text/plain": [
       "        EmailOpen  WebVisit  PageView  EmailClickthrough  FormSubmit  \\\n",
       "0               5         0         0                  0           0   \n",
       "1               1         0         0                  1           0   \n",
       "2               3         0         0                  0           0   \n",
       "3               4         0         0                  0           0   \n",
       "4               3         0         0                  0           0   \n",
       "...           ...       ...       ...                ...         ...   \n",
       "132805          1         0         0                  0           0   \n",
       "132806          3         1         1                  0           1   \n",
       "132807          1         0         0                  0           0   \n",
       "132808          1         0         0                  0           0   \n",
       "132809          5         0         0                  0           0   \n",
       "\n",
       "                User_ID  noPurchase  willPurchase  \n",
       "0       0000ecf58c94668    0.904387      0.095613  \n",
       "1       000132f21724ee2    0.932466      0.067534  \n",
       "2       0001b315b991cf0    0.916694      0.083306  \n",
       "3       000269150971d08    0.913956      0.086044  \n",
       "4       000297ba4fa5026    0.916694      0.083306  \n",
       "...                 ...         ...           ...  \n",
       "132805  fffc7f2ad169c6b    0.940409      0.059591  \n",
       "132806  fffd77a0266d37c    0.899152      0.100848  \n",
       "132807  fffed482b52afd8    0.940409      0.059591  \n",
       "132808  ffffa4cc0190881    0.940409      0.059591  \n",
       "132809  ffffecdd8dc6174    0.904387      0.095613  \n",
       "\n",
       "[132810 rows x 8 columns]"
      ]
     },
     "execution_count": 863,
     "metadata": {},
     "output_type": "execute_result"
    }
   ],
   "source": [
    "output_with_activities"
   ]
  },
  {
   "cell_type": "code",
   "execution_count": 864,
   "metadata": {},
   "outputs": [],
   "source": [
    "potential_buyers = output_with_activities.sort_values(by = 'willPurchase', ascending = False)"
   ]
  },
  {
   "cell_type": "code",
   "execution_count": 865,
   "metadata": {},
   "outputs": [],
   "source": [
    "top1000_users = potential_buyers.nlargest(1000, 'willPurchase')"
   ]
  },
  {
   "cell_type": "code",
   "execution_count": 866,
   "metadata": {},
   "outputs": [],
   "source": [
    "top1000_users = top1000_users[['User_ID','willPurchase']]"
   ]
  },
  {
   "cell_type": "code",
   "execution_count": 867,
   "metadata": {},
   "outputs": [
    {
     "data": {
      "text/html": [
       "<div>\n",
       "<style scoped>\n",
       "    .dataframe tbody tr th:only-of-type {\n",
       "        vertical-align: middle;\n",
       "    }\n",
       "\n",
       "    .dataframe tbody tr th {\n",
       "        vertical-align: top;\n",
       "    }\n",
       "\n",
       "    .dataframe thead th {\n",
       "        text-align: right;\n",
       "    }\n",
       "</style>\n",
       "<table border=\"1\" class=\"dataframe\">\n",
       "  <thead>\n",
       "    <tr style=\"text-align: right;\">\n",
       "      <th></th>\n",
       "      <th>User_ID</th>\n",
       "      <th>willPurchase</th>\n",
       "    </tr>\n",
       "  </thead>\n",
       "  <tbody>\n",
       "    <tr>\n",
       "      <th>70415</th>\n",
       "      <td>7ba6c12d9d7c3f9</td>\n",
       "      <td>0.9825</td>\n",
       "    </tr>\n",
       "    <tr>\n",
       "      <th>19888</th>\n",
       "      <td>200b4bcdd0b35e8</td>\n",
       "      <td>0.9825</td>\n",
       "    </tr>\n",
       "    <tr>\n",
       "      <th>81010</th>\n",
       "      <td>90b8ac5d9e0d2cb</td>\n",
       "      <td>0.9825</td>\n",
       "    </tr>\n",
       "    <tr>\n",
       "      <th>42229</th>\n",
       "      <td>4708979d4ea1c79</td>\n",
       "      <td>0.9825</td>\n",
       "    </tr>\n",
       "    <tr>\n",
       "      <th>46684</th>\n",
       "      <td>4ef8fad8fe024f9</td>\n",
       "      <td>0.9825</td>\n",
       "    </tr>\n",
       "    <tr>\n",
       "      <th>...</th>\n",
       "      <td>...</td>\n",
       "      <td>...</td>\n",
       "    </tr>\n",
       "    <tr>\n",
       "      <th>98638</th>\n",
       "      <td>b4d0a0fbd88a88c</td>\n",
       "      <td>0.6200</td>\n",
       "    </tr>\n",
       "    <tr>\n",
       "      <th>122899</th>\n",
       "      <td>e97a63502f95840</td>\n",
       "      <td>0.6200</td>\n",
       "    </tr>\n",
       "    <tr>\n",
       "      <th>13380</th>\n",
       "      <td>154f19ffdb8b1ab</td>\n",
       "      <td>0.6200</td>\n",
       "    </tr>\n",
       "    <tr>\n",
       "      <th>17494</th>\n",
       "      <td>1c19ddd9797515d</td>\n",
       "      <td>0.6200</td>\n",
       "    </tr>\n",
       "    <tr>\n",
       "      <th>19393</th>\n",
       "      <td>1f3bea69bd66b4c</td>\n",
       "      <td>0.6200</td>\n",
       "    </tr>\n",
       "  </tbody>\n",
       "</table>\n",
       "<p>1000 rows × 2 columns</p>\n",
       "</div>"
      ],
      "text/plain": [
       "                User_ID  willPurchase\n",
       "70415   7ba6c12d9d7c3f9        0.9825\n",
       "19888   200b4bcdd0b35e8        0.9825\n",
       "81010   90b8ac5d9e0d2cb        0.9825\n",
       "42229   4708979d4ea1c79        0.9825\n",
       "46684   4ef8fad8fe024f9        0.9825\n",
       "...                 ...           ...\n",
       "98638   b4d0a0fbd88a88c        0.6200\n",
       "122899  e97a63502f95840        0.6200\n",
       "13380   154f19ffdb8b1ab        0.6200\n",
       "17494   1c19ddd9797515d        0.6200\n",
       "19393   1f3bea69bd66b4c        0.6200\n",
       "\n",
       "[1000 rows x 2 columns]"
      ]
     },
     "execution_count": 867,
     "metadata": {},
     "output_type": "execute_result"
    }
   ],
   "source": [
    "top1000_users"
   ]
  },
  {
   "cell_type": "code",
   "execution_count": 868,
   "metadata": {},
   "outputs": [],
   "source": [
    "top1000_users.to_csv('Top_1000_rf.csv')"
   ]
  },
  {
   "cell_type": "code",
   "execution_count": 875,
   "metadata": {},
   "outputs": [],
   "source": [
    "# Using Neural Network\n",
    "\n",
    "mlp = MLPClassifier(hidden_layer_sizes=(5,8,8), activation='relu', solver='adam', max_iter=1000)"
   ]
  },
  {
   "cell_type": "code",
   "execution_count": 876,
   "metadata": {},
   "outputs": [
    {
     "data": {
      "text/plain": [
       "MLPClassifier(activation='relu', alpha=0.0001, batch_size='auto', beta_1=0.9,\n",
       "              beta_2=0.999, early_stopping=False, epsilon=1e-08,\n",
       "              hidden_layer_sizes=(5, 8, 8), learning_rate='constant',\n",
       "              learning_rate_init=0.001, max_fun=15000, max_iter=1000,\n",
       "              momentum=0.9, n_iter_no_change=10, nesterovs_momentum=True,\n",
       "              power_t=0.5, random_state=None, shuffle=True, solver='adam',\n",
       "              tol=0.0001, validation_fraction=0.1, verbose=False,\n",
       "              warm_start=False)"
      ]
     },
     "execution_count": 876,
     "metadata": {},
     "output_type": "execute_result"
    }
   ],
   "source": [
    "mlp.fit(X_train,Y_train)"
   ]
  },
  {
   "cell_type": "code",
   "execution_count": 871,
   "metadata": {},
   "outputs": [],
   "source": [
    "predict_test = mlp.predict(X_test)"
   ]
  },
  {
   "cell_type": "code",
   "execution_count": 872,
   "metadata": {},
   "outputs": [],
   "source": [
    "nn_cf_matrix_test = metrics.confusion_matrix(Y_test,predict_test)"
   ]
  },
  {
   "cell_type": "code",
   "execution_count": 873,
   "metadata": {},
   "outputs": [
    {
     "data": {
      "text/plain": [
       "<matplotlib.axes._subplots.AxesSubplot at 0x1318e5b1b08>"
      ]
     },
     "execution_count": 873,
     "metadata": {},
     "output_type": "execute_result"
    },
    {
     "data": {
      "image/png": "[encoded data removed]",
      "text/plain": [
       "<Figure size 432x288 with 2 Axes>"
      ]
     },
     "metadata": {
      "needs_background": "light"
     },
     "output_type": "display_data"
    }
   ],
   "source": [
    "group_names = ['TN','FP','FN','TP']\n",
    "\n",
    "group_counts = [\"{0:0.0f}\".format(value) for value in\n",
    "                nn_cf_matrix_test.flatten()]\n",
    "\n",
    "group_percentages = [\"{0:.2%}\".format(value) for value in\n",
    "                     nn_cf_matrix_test.flatten()/np.sum(nn_cf_matrix_test)]\n",
    "\n",
    "labels = [f\"{v1}\\n{v2}\\n{v3}\" for v1, v2, v3 in\n",
    "          zip(group_names,group_counts,group_percentages)]\n",
    "\n",
    "labels = np.asarray(labels).reshape(2,2)\n",
    "\n",
    "sns.heatmap(nn_cf_matrix_train, cmap=\"YlGnBu\", annot=labels, fmt='')"
   ]
  },
  {
   "cell_type": "code",
   "execution_count": 874,
   "metadata": {},
   "outputs": [
    {
     "name": "stdout",
     "output_type": "stream",
     "text": [
      "              precision    recall  f1-score   support\n",
      "\n",
      "           0       0.88      0.98      0.93     71193\n",
      "           1       0.94      0.69      0.79     31277\n",
      "\n",
      "    accuracy                           0.89    102470\n",
      "   macro avg       0.91      0.83      0.86    102470\n",
      "weighted avg       0.90      0.89      0.89    102470\n",
      "\n"
     ]
    }
   ],
   "source": [
    "print(metrics.classification_report(Y_test,predict_test))"
   ]
  },
  {
   "cell_type": "code",
   "execution_count": null,
   "metadata": {},
   "outputs": [],
   "source": []
  },
  {
   "cell_type": "code",
   "execution_count": null,
   "metadata": {},
   "outputs": [],
   "source": []
  }
 ],
 "metadata": {
  "kernelspec": {
   "display_name": "Python 3",
   "language": "python",
   "name": "python3"
  },
  "language_info": {
   "codemirror_mode": {
    "name": "ipython",
    "version": 3
   },
   "file_extension": ".py",
   "mimetype": "text/x-python",
   "name": "python",
   "nbconvert_exporter": "python",
   "pygments_lexer": "ipython3",
   "version": "3.7.6"
  }
 },
 "nbformat": 4,
 "nbformat_minor": 4
}
